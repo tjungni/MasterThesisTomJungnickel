{
 "cells": [
  {
   "cell_type": "code",
   "execution_count": null,
   "metadata": {},
   "outputs": [],
   "source": [
    "using DrWatson\n",
    "@quickactivate \"masterarbeit\""
   ]
  },
  {
   "cell_type": "code",
   "execution_count": null,
   "metadata": {},
   "outputs": [],
   "source": [
    "using Random\n",
    "using LaTeXStrings\n",
    "using GLMakie\n",
    "using StatsBase"
   ]
  },
  {
   "cell_type": "code",
   "execution_count": null,
   "metadata": {},
   "outputs": [],
   "source": [
    "Makie.inline!(true)\n",
    "fontsize_theme = Theme(fontsize=35)\n",
    "set_theme!(fontsize_theme)\n",
    "wblue = Makie.wong_colors()[1]\n",
    "worange = Makie.wong_colors()[2]\n",
    "wgreen = Makie.wong_colors()[3]\n",
    "wpink = Makie.wong_colors()[4]\n",
    "wlblue = Makie.wong_colors()[5]\n",
    "worange = Makie.wong_colors()[6]\n",
    "wyellow = Makie.wong_colors()[7];"
   ]
  },
  {
   "cell_type": "code",
   "execution_count": null,
   "metadata": {},
   "outputs": [],
   "source": [
    "using Revise"
   ]
  },
  {
   "cell_type": "code",
   "execution_count": null,
   "metadata": {},
   "outputs": [],
   "source": [
    "using masterarbeit"
   ]
  },
  {
   "cell_type": "code",
   "execution_count": null,
   "metadata": {},
   "outputs": [],
   "source": [
    "include(joinpath(projectdir(),\"src/vegas.jl\"))"
   ]
  },
  {
   "cell_type": "code",
   "execution_count": null,
   "metadata": {},
   "outputs": [],
   "source": [
    "omega = 5.12\n",
    "dphi = 10.0\n",
    "f = x -> comptonf(x, omega, dphi)[1]\n",
    "vegasstart = [-1.0, 0.0]\n",
    "vegasend = [1.0, 1.0]\n",
    "xticks = [-1.0, -0.5, 0.0, 0.5, 1.0]\n",
    "yticks = [0.0, 0.2, 0.4, 0.6, 0.8, 1.0]\n",
    "xs = LinRange(-1.0, 1.0, 1001)\n",
    "ys = LinRange(0.0, 1.0, 1001)\n",
    "fevals = sample -> f([sample[1], sample[2]]);"
   ]
  },
  {
   "cell_type": "code",
   "execution_count": null,
   "metadata": {},
   "outputs": [],
   "source": [
    "res = vegas(f, vegasstart, vegasend)\n",
    "weights = res.weights;"
   ]
  },
  {
   "cell_type": "code",
   "execution_count": null,
   "metadata": {},
   "outputs": [],
   "source": [
    "samples, Js = sample_from_adaptive_grid(res, 10^7)\n",
    "weights = Js .* fevals.(samples);"
   ]
  },
  {
   "cell_type": "code",
   "execution_count": null,
   "metadata": {},
   "outputs": [],
   "source": [
    "sample_from_adaptive_grid(res, 10^7)"
   ]
  },
  {
   "cell_type": "code",
   "execution_count": null,
   "metadata": {},
   "outputs": [],
   "source": [
    "sx = [s[1] for s in samples]\n",
    "sy = [s[2] for s in samples]\n",
    "histo = fit(Histogram, (sx, sy), nbins=100)\n",
    "histo_n = StatsBase.normalize(histo, mode=:pdf)\n",
    "fig = Figure(size=(1200,1000), figure_padding=40)\n",
    "ax = Axis(fig[1,1], xlabel=L\"\\cos{\\theta}\", ylabel=L\"\\overline{\\omega'}\", xticks=xticks, yticks=yticks, aspect=1, xlabelsize=50, ylabelsize=50)\n",
    "hm = heatmap!(histo.edges[1], histo.edges[2], histo_n.weights, colorrange=(0,25))\n",
    "fig[1, 2] = GridLayout(width = 20)\n",
    "Colorbar(fig[1,3], hm, width=40)\n",
    "#save(\"compton_vegas_samples_0.1_truecolor.png\", fig)\n",
    "fig"
   ]
  },
  {
   "cell_type": "code",
   "execution_count": null,
   "metadata": {},
   "outputs": [],
   "source": [
    "mcint = res.integral_estimate\n",
    "mcerror = res.standard_deviation\n",
    "println(\"mc integral = $mcint\")\n",
    "println(\"standard deviation = $mcerror\")"
   ]
  },
  {
   "cell_type": "code",
   "execution_count": null,
   "metadata": {},
   "outputs": [],
   "source": [
    "wi = weights\n",
    "wi_n = weights ./ mcint\n",
    "w_avg = mean(wi_n)\n",
    "w_max = maximum(wi_n)\n",
    "uweff = w_avg / w_max\n",
    "println(\"mean weight = $w_avg\")\n",
    "println(\"max weight = $w_max\")\n",
    "println(\"unweighting efficiency = $uweff\")"
   ]
  },
  {
   "cell_type": "code",
   "execution_count": null,
   "metadata": {},
   "outputs": [],
   "source": [
    "function vegaswithgrid()\n",
    "    fig = Figure(size=(1200,1000), figure_padding=40)\n",
    "    ax2 = Axis(fig[1,1], xticks=xticks, yticks=yticks,\n",
    "        aspect=1, xlabel=L\"\\cos{\\theta}\", ylabel=L\"\\overline{\\omega'}\", xlabelsize=50, ylabelsize=50)\n",
    "    zs = [f([x,y])[1] for x in xs, y in ys]\n",
    "    zs_n = zs ./ mcint\n",
    "    hm = heatmap!(xs, ys, zs_n, colorrange=(0,25))\n",
    "    vlines!(res.adaptive_grid[:,1][1:50:end], color=:white, linewidth=2)\n",
    "    hlines!(res.adaptive_grid[:,2][1:50:end], color=:white, linewidth=2)\n",
    "    fig[1, 2] = GridLayout(width = 20)\n",
    "    Colorbar(fig[1,3], hm, width=40)\n",
    "    #save(\"compton_vegas_grid_0.1.png\", fig)\n",
    "    return fig\n",
    "end \n",
    "fig = vegaswithgrid()\n",
    "fig"
   ]
  },
  {
   "cell_type": "code",
   "execution_count": null,
   "metadata": {},
   "outputs": [],
   "source": [
    "using JLD2"
   ]
  },
  {
   "cell_type": "code",
   "execution_count": null,
   "metadata": {},
   "outputs": [],
   "source": [
    "#save_object(\"vegas_weights_0.1.jld2\", wi_n)"
   ]
  },
  {
   "cell_type": "code",
   "execution_count": null,
   "metadata": {},
   "outputs": [],
   "source": []
  }
 ],
 "metadata": {
  "kernelspec": {
   "display_name": "Julia 1.9.4",
   "language": "julia",
   "name": "julia-1.9"
  },
  "language_info": {
   "file_extension": ".jl",
   "mimetype": "application/julia",
   "name": "julia",
   "version": "1.9.4"
  }
 },
 "nbformat": 4,
 "nbformat_minor": 2
}
