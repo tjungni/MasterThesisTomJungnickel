{
 "cells": [
  {
   "cell_type": "code",
   "execution_count": null,
   "metadata": {},
   "outputs": [],
   "source": [
    "using DrWatson\n",
    "@quickactivate \"masterarbeit\""
   ]
  },
  {
   "cell_type": "code",
   "execution_count": null,
   "metadata": {},
   "outputs": [],
   "source": [
    "using BenchmarkTools\n",
    "using ProgressMeter\n",
    "using CUDA\n",
    "using Flux\n",
    "using LaTeXStrings\n",
    "using Flux: train!\n",
    "using GLMakie\n",
    "using Printf\n",
    "using Dates\n",
    "using JLD2\n",
    "using TOML\n",
    "using StatsBase # for fit(histogram)"
   ]
  },
  {
   "cell_type": "code",
   "execution_count": null,
   "metadata": {},
   "outputs": [],
   "source": [
    "Makie.inline!(true)\n",
    "fontsize_theme = Theme(fontsize=35)\n",
    "set_theme!(fontsize_theme)\n",
    "wblue = Makie.wong_colors()[1]\n",
    "worange = Makie.wong_colors()[2]\n",
    "wgreen = Makie.wong_colors()[3]\n",
    "wpink = Makie.wong_colors()[4]\n",
    "wlblue = Makie.wong_colors()[5]\n",
    "worange = Makie.wong_colors()[6]\n",
    "wyellow = Makie.wong_colors()[7];"
   ]
  },
  {
   "cell_type": "code",
   "execution_count": null,
   "metadata": {},
   "outputs": [],
   "source": [
    "using Revise"
   ]
  },
  {
   "cell_type": "code",
   "execution_count": null,
   "metadata": {},
   "outputs": [],
   "source": [
    "using masterarbeit"
   ]
  },
  {
   "cell_type": "code",
   "execution_count": null,
   "metadata": {},
   "outputs": [],
   "source": [
    "function jacobian2cl(m::Chain, cm::ChannelMapping, x::T) where {T <: AbstractArray{F}} where F<:Real\n",
    "    cl1 = m[1]\n",
    "    sl1 = m[2]\n",
    "    cl2 = m[3]\n",
    "    x2 = cl1(x)\n",
    "    x2s = sl1(x2)\n",
    "    det1 = abs.(cldet(cl1,  x[cl1.dimA+1:cl1.d,:], cl1.m( x[1:cl1.dimA,:])...))\n",
    "    det2 = abs.(cldet(cl2, x2s[cl2.dimA+1:cl2.d,:], cl2.m(x2s[1:cl2.dimA,:])...))\n",
    "    return abs(cmdet(cm)) .* det1 .* det2\n",
    "end"
   ]
  },
  {
   "cell_type": "code",
   "execution_count": null,
   "metadata": {},
   "outputs": [],
   "source": [
    "function lossf(m::Chain, cm::ChannelMapping, f::Function, x::T) where T<:AbstractArray{F} where F<:Real\n",
    "    zi = cm(m(x))\n",
    "    g = 1 ./ jacobian2cl(m, cm, x)\n",
    "    fracs = abs.(f(zi) .- g) .^F(1.5) ./ g\n",
    "    return sum(fracs) / size(x,2)\n",
    "end"
   ]
  },
  {
   "cell_type": "code",
   "execution_count": null,
   "metadata": {},
   "outputs": [],
   "source": [
    "omega = 0.1\n",
    "dphi = 10.0\n",
    "f = x -> comptonf(x, omega, dphi)\n",
    "ytozmap = HypercubeTocθωbar()\n",
    "dim = 2\n",
    "dimA = 1;"
   ]
  },
  {
   "cell_type": "code",
   "execution_count": null,
   "metadata": {},
   "outputs": [],
   "source": [
    "batchsize = 4096\n",
    "N_epochs = 50\n",
    "bins = 20\n",
    "learning_rate = 0.01\n",
    "weight_decay = 4.3E-4\n",
    "decay = 0.7\n",
    "optimizer = Adam\n",
    ";"
   ]
  },
  {
   "cell_type": "code",
   "execution_count": null,
   "metadata": {},
   "outputs": [],
   "source": [
    "function subnet(dimA::Signed, dimB::Signed, bins::Signed, width=8)\n",
    "    return Chain(\n",
    "        Split(\n",
    "            Chain(\n",
    "                BatchNorm(dimA),\n",
    "                Dense(dimA => width, relu),\n",
    "                Dense(width => width, relu),\n",
    "                Dense(width => dimB*(bins+1))  \n",
    "                ), \n",
    "            Chain(\n",
    "                BatchNorm(dimA),\n",
    "                Dense(dimA => width, relu),\n",
    "                Dense(width => width, relu),\n",
    "                Dense(width => dimB*bins)\n",
    "                )\n",
    "            ) \n",
    "        ) |> gpu\n",
    "end"
   ]
  },
  {
   "cell_type": "code",
   "execution_count": null,
   "metadata": {},
   "outputs": [],
   "source": [
    "model = Flux.f64(Chain(\n",
    "    CouplingLayer(dim, dimA, bins, subnet),\n",
    "    masterarbeit.MaskLayer([false, true]),\n",
    "    CouplingLayer(dim, dimA, bins, subnet),\n",
    ") |> gpu);"
   ]
  },
  {
   "cell_type": "code",
   "execution_count": null,
   "metadata": {},
   "outputs": [],
   "source": [
    "# first run to compile/test\n",
    "xtest = CUDA.rand(Float64,dim,batchsize);"
   ]
  },
  {
   "cell_type": "code",
   "execution_count": null,
   "metadata": {},
   "outputs": [],
   "source": [
    "model(xtest);"
   ]
  },
  {
   "cell_type": "code",
   "execution_count": null,
   "metadata": {},
   "outputs": [],
   "source": [
    "f(ytozmap(xtest));"
   ]
  },
  {
   "cell_type": "code",
   "execution_count": null,
   "metadata": {},
   "outputs": [],
   "source": [
    "lossf(model,ytozmap,f,xtest);"
   ]
  },
  {
   "cell_type": "code",
   "execution_count": null,
   "metadata": {},
   "outputs": [],
   "source": [
    "Flux.withgradient(m-> lossf(m,ytozmap,f,xtest), model);"
   ]
  },
  {
   "attachments": {},
   "cell_type": "markdown",
   "metadata": {},
   "source": [
    "# Training"
   ]
  },
  {
   "cell_type": "code",
   "execution_count": null,
   "metadata": {},
   "outputs": [],
   "source": [
    "losses = Float64[]"
   ]
  },
  {
   "cell_type": "code",
   "execution_count": null,
   "metadata": {},
   "outputs": [],
   "source": [
    "current_learning_rate = learning_rate\n",
    "for i in 1:3\n",
    "    println(\"Training with learning rate  = $(current_learning_rate)\")\n",
    "    losses = train_NN(model, dim, lossf, losses, ytozmap, f, epochs=100, batchsize=batchsize, optimizer=optimizer, learning_rate=current_learning_rate, ftype=Float64)\n",
    "    current_learning_rate = current_learning_rate * decay\n",
    "end;"
   ]
  },
  {
   "cell_type": "code",
   "execution_count": null,
   "metadata": {},
   "outputs": [],
   "source": [
    "losses[end]"
   ]
  },
  {
   "cell_type": "code",
   "execution_count": null,
   "metadata": {},
   "outputs": [],
   "source": [
    "fig = Figure(size=(1500,1000))\n",
    "ax = Axis(fig[1,1], xlabel=\"epoch\", ylabel=\"loss\")\n",
    "lines!(1:length(losses), losses, linewidth=4, color=wblue, label=\"loss\")\n",
    "n = 10\n",
    "lines!(n:length(losses), moving_average(losses, n), linewidth=4, color=worange, label=\"$n epoch \\n moving average\")\n",
    "fig[1,2] = Legend(fig, ax)\n",
    "save(\"compton_nis_loss.png\", fig)\n",
    "fig"
   ]
  },
  {
   "cell_type": "code",
   "execution_count": null,
   "metadata": {},
   "outputs": [],
   "source": [
    "samples = sample_NN(model, ytozmap, dim, 10^7, batchsize*4, ftype=Float64);"
   ]
  },
  {
   "cell_type": "code",
   "execution_count": null,
   "metadata": {},
   "outputs": [],
   "source": [
    "xticks = [-1.0, -0.5, 0.0, 0.5, 1.0]\n",
    "yticks = [0.0, 0.25, 0.5, 0.75, 1.0];"
   ]
  },
  {
   "cell_type": "code",
   "execution_count": null,
   "metadata": {},
   "outputs": [],
   "source": [
    "function makie_samples(samples)\n",
    "    histo = fit(Histogram, (samples[1,:], samples[2,:]), nbins=200)\n",
    "    fig = Figure(size=(1000,1000), figure_padding=40)\n",
    "    ax = Axis(fig[1,1], xticks=xticks, yticks=yticks, xlabel=L\"\\cos{\\theta}\", ylabel=L\"\\overline{\\omega'}\",\n",
    "        aspect=1, xlabelsize=50, ylabelsize=50)\n",
    "    heatmap!(histo.edges[1], histo.edges[2], histo.weights)\n",
    "    ylims!(0.0,1.0)\n",
    "    fig\n",
    "end\n",
    "fig = makie_samples(samples)\n",
    "save(\"compton_nis_samples.png\", fig)\n",
    "fig"
   ]
  },
  {
   "cell_type": "code",
   "execution_count": null,
   "metadata": {},
   "outputs": [],
   "source": [
    "fig = Figure(size=(1000,1000), figure_padding=40)\n",
    "ax = Axis(fig[1,1], xticks=xticks, yticks=yticks, xlabel=L\"\\cos{\\theta}\", ylabel=L\"\\overline{\\omega'}\")\n",
    "xs = LinRange(-1.0, 1.0-eps(), 1001)\n",
    "ys = LinRange(0.0+eps(), 1.0-eps(), 1001)\n",
    "zs = [f([x;y])[1] for x in xs, y in ys]\n",
    "heatmap!(xs, ys, zs)\n",
    "save(\"compton_truth.png\", fig)\n",
    "fig"
   ]
  },
  {
   "cell_type": "code",
   "execution_count": null,
   "metadata": {},
   "outputs": [],
   "source": [
    "wi_vegas = load_object(\"vegas_weights.jld2\");"
   ]
  },
  {
   "cell_type": "code",
   "execution_count": null,
   "metadata": {},
   "outputs": [],
   "source": [
    "function weights2cl(m::Chain, cm::ChannelMapping, f::Function, x::T) where {T <: AbstractArray}\n",
    "    return jacobian2cl(m, cm, x) .* f(cm(m(x)))'\n",
    "end\n",
    "\n",
    "function weights2cl_chunked(m, dim, cm, f, N, batchsize)\n",
    "    if (N%batchsize != 0) \n",
    "        x = CUDA.rand(Float64, dim, N%batchsize)\n",
    "        weights = weights2cl(m, cm, f, x) |> cpu\n",
    "        inputs = x\n",
    "        runs = N ÷ batchsize \n",
    "    else\n",
    "        x = CUDA.rand(Float64, dim,   batchsize)\n",
    "        weights = weights2cl(m, cm, f, x) |> cpu\n",
    "        inputs = x\n",
    "        runs = N ÷ batchsize - 1\n",
    "    end\n",
    "    for i in 1:runs\n",
    "        x = CUDA.rand(Float64, dim, batchsize)\n",
    "        weights = hcat(weights, weights2cl(m, cm, f, x) |> cpu)\n",
    "        inputs = hcat(inputs, x)\n",
    "    end\n",
    "    return weights, inputs\n",
    "end\n",
    "\n",
    "wi_m, x_for_wi = weights2cl_chunked(model, dim, ytozmap, f,  10^7, batchsize*4)\n",
    "wi = wi_m[1,:]\n",
    "w_avg = mean(wi)\n",
    "w_max = maximum(wi)\n",
    "wi_n = wi ./ w_max\n",
    "w_avg_n = mean(wi_n)\n",
    "println(\"mean weight = $(mean(wi))\")\n",
    "println(\"max weight = $(maximum(wi))\")\n",
    "println(\"unweighting efficiency = $(mean(wi)/maximum(wi))\")"
   ]
  },
  {
   "cell_type": "code",
   "execution_count": null,
   "metadata": {},
   "outputs": [],
   "source": [
    "wi_vegas_filtered = wi_vegas[wi_vegas .< 10.01];"
   ]
  },
  {
   "cell_type": "code",
   "execution_count": null,
   "metadata": {},
   "outputs": [],
   "source": [
    "fig = Figure(size=(1500,1000))\n",
    "ax = Axis(fig[1,1], ylabel=L\"N\", xlabel=L\"w\", yscale=Makie.pseudolog10, yticks=[0, 10^1, 10^3, 10^5, 10^7])\n",
    "stephist!(wi_vegas ./ integral, linewidth=3, color=wblue, label=\"VEGAS\", bins=100) \n",
    "stephist!(wi ./ integral, linewidth=3, color=worange, label=\"NIS\", bins=100) \n",
    "fig[1,2] = Legend(fig, ax)\n",
    "\n",
    "inset_ax = Axis(fig[1, 1], yscale=Makie.pseudolog10, yticks=[0, 10^1, 10^3, 10^5, 10^7], \n",
    "    width=Relative(0.65), height=Relative(0.65), halign=0.92, valign=0.92,)\n",
    "translate!(inset_ax.elements[:background], 0, 0, -10)\n",
    "stephist!(wi_vegas_filtered ./ integral, linewidth=3, color=wblue, label=\"VEGAS\", bins=50) \n",
    "stephist!(wi ./ integral, color=worange, linewidth=3, label=\"NIS\", bins=50) \n",
    "xlims!(0.0, 150.0)\n",
    "\n",
    "save(\"compton_weights.png\", fig)\n",
    "fig"
   ]
  },
  {
   "cell_type": "code",
   "execution_count": null,
   "metadata": {},
   "outputs": [],
   "source": [
    "x_signal = x_for_wi[:, wi .>= 0.1]\n",
    "x_noise = x_for_wi[:, wi .< 0.1];"
   ]
  },
  {
   "cell_type": "code",
   "execution_count": null,
   "metadata": {},
   "outputs": [],
   "source": [
    "function sample_chunked(m, dim, cm, x, batchsize)\n",
    "    res = Array{Float64}(undef, dim, 1)\n",
    "    runs = size(x,2) ÷ batchsize\n",
    "    for i in 1:runs\n",
    "        res = hcat(res, cm(m(x[:,(1+(i-1)*batchsize):(1+i*batchsize)]))|>cpu)\n",
    "    end\n",
    "    return res\n",
    "end"
   ]
  },
  {
   "cell_type": "code",
   "execution_count": null,
   "metadata": {},
   "outputs": [],
   "source": [
    "signal_samples = sample_chunked(model, dim, ytozmap, x_signal, batchsize);"
   ]
  },
  {
   "cell_type": "code",
   "execution_count": null,
   "metadata": {},
   "outputs": [],
   "source": [
    "noise_samples = sample_chunked(model, dim, ytozmap, x_noise, batchsize);"
   ]
  },
  {
   "cell_type": "code",
   "execution_count": null,
   "metadata": {},
   "outputs": [],
   "source": [
    "fig = makie_samples(signal_samples)\n",
    "save(\"compton_nis_signal.png\", fig)\n",
    "fig"
   ]
  },
  {
   "cell_type": "code",
   "execution_count": null,
   "metadata": {},
   "outputs": [],
   "source": [
    "fig = makie_samples(noise_samples)\n",
    "save(\"compton_nis_noise.png\", fig)\n",
    "fig"
   ]
  },
  {
   "cell_type": "code",
   "execution_count": null,
   "metadata": {},
   "outputs": [],
   "source": [
    "f_over_g = wi\n",
    "mcint_nis = sum(f_over_g) / size(samples,2)\n",
    "mcerror = sqrt(sum((f_over_g  .- mcint_nis).^2) / (size(samples,2)-1))\n",
    "println(\"mc integral = $mcint_nis\")\n",
    "println(\"standard deviation = $mcerror\")"
   ]
  }
 ],
 "metadata": {
  "kernelspec": {
   "display_name": "Julia 1.9.4",
   "language": "julia",
   "name": "julia-1.9"
  },
  "language_info": {
   "file_extension": ".jl",
   "mimetype": "application/julia",
   "name": "julia",
   "version": "1.9.4"
  },
  "orig_nbformat": 4
 },
 "nbformat": 4,
 "nbformat_minor": 2
}
