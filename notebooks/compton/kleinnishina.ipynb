{
 "cells": [
  {
   "cell_type": "code",
   "execution_count": null,
   "metadata": {},
   "outputs": [],
   "source": [
    "using DrWatson\n",
    "@quickactivate \"masterarbeit\"\n",
    "using GLMakie\n",
    "using LaTeXStrings"
   ]
  },
  {
   "cell_type": "code",
   "execution_count": null,
   "metadata": {},
   "outputs": [],
   "source": [
    "using Revise"
   ]
  },
  {
   "cell_type": "code",
   "execution_count": null,
   "metadata": {},
   "outputs": [],
   "source": [
    "using masterarbeit"
   ]
  },
  {
   "cell_type": "code",
   "execution_count": null,
   "metadata": {},
   "outputs": [],
   "source": [
    "Makie.inline!(true)\n",
    "fontsize_theme = Theme(fontsize=35)\n",
    "set_theme!(fontsize_theme)"
   ]
  },
  {
   "cell_type": "code",
   "execution_count": null,
   "metadata": {},
   "outputs": [],
   "source": [
    "wblue = Makie.wong_colors()[1]\n",
    "worange = Makie.wong_colors()[2]\n",
    "wgreen = Makie.wong_colors()[3]\n",
    "wpink = Makie.wong_colors()[4]\n",
    "wlblue = Makie.wong_colors()[5]\n",
    "worange = Makie.wong_colors()[6]\n",
    "wyellow = Makie.wong_colors()[7];"
   ]
  },
  {
   "cell_type": "code",
   "execution_count": null,
   "metadata": {},
   "outputs": [],
   "source": [
    "x = range(-1.0, stop=1.0, length=1001)\n",
    "fig = Figure(size=(1600,1000))\n",
    "ax = Axis(fig[1,1], xlabel = L\"\\cos{\\theta}\", ylabel=L\"\\mathrm{d}\\sigma / \\mathrm{d}\\cos{\\theta}\\mathrm{d}\\varphi\")\n",
    "lines!(x, dσdcθ.(x, 1E-6), color=wblue, label=L\"\\omega = 1E-6\")\n",
    "lines!(x, dσdcθ.(x, 0.1), color=worange, label=L\"\\omega = 0.1\")\n",
    "lines!(x, dσdcθ.(x, 5.12), color=wgreen, label=L\"\\omega = 5.12\")\n",
    "fig[1,2] = Legend(fig, ax)\n",
    "save(\"kleinnishina.png\", fig)\n",
    "fig"
   ]
  },
  {
   "cell_type": "code",
   "execution_count": null,
   "metadata": {},
   "outputs": [],
   "source": []
  }
 ],
 "metadata": {
  "kernelspec": {
   "display_name": "Julia 1.9.4",
   "language": "julia",
   "name": "julia-1.9"
  },
  "language_info": {
   "file_extension": ".jl",
   "mimetype": "application/julia",
   "name": "julia",
   "version": "1.9.4"
  }
 },
 "nbformat": 4,
 "nbformat_minor": 2
}
