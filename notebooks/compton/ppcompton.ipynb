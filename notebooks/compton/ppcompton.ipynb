{
 "cells": [
  {
   "cell_type": "code",
   "execution_count": null,
   "metadata": {},
   "outputs": [],
   "source": [
    "using DrWatson\n",
    "@quickactivate \"masterarbeit\""
   ]
  },
  {
   "cell_type": "code",
   "execution_count": null,
   "metadata": {},
   "outputs": [],
   "source": [
    "using GLMakie\n",
    "using LaTeXStrings\n",
    "using Printf"
   ]
  },
  {
   "cell_type": "code",
   "execution_count": null,
   "metadata": {},
   "outputs": [],
   "source": [
    "Makie.inline!(true)\n",
    "fontsize_theme = Theme(fontsize=35)\n",
    "set_theme!(fontsize_theme)"
   ]
  },
  {
   "cell_type": "code",
   "execution_count": null,
   "metadata": {},
   "outputs": [],
   "source": [
    "wblue = Makie.wong_colors()[1]\n",
    "worange = Makie.wong_colors()[2]\n",
    "wgreen = Makie.wong_colors()[3]\n",
    "wpink = Makie.wong_colors()[4]\n",
    "wlblue = Makie.wong_colors()[5]\n",
    "worange = Makie.wong_colors()[6]\n",
    "wyellow = Makie.wong_colors()[7];"
   ]
  },
  {
   "cell_type": "code",
   "execution_count": null,
   "metadata": {},
   "outputs": [],
   "source": [
    "using Revise"
   ]
  },
  {
   "cell_type": "code",
   "execution_count": null,
   "metadata": {},
   "outputs": [],
   "source": [
    "using masterarbeit"
   ]
  },
  {
   "cell_type": "code",
   "execution_count": null,
   "metadata": {},
   "outputs": [],
   "source": [
    "F = Float64"
   ]
  },
  {
   "attachments": {},
   "cell_type": "markdown",
   "metadata": {},
   "source": [
    "# 2. Pulsed perturbative compton $\\omega \\rightarrow \\omega l$"
   ]
  },
  {
   "attachments": {},
   "cell_type": "markdown",
   "metadata": {},
   "source": [
    "## 0. Background field"
   ]
  },
  {
   "cell_type": "code",
   "execution_count": null,
   "metadata": {},
   "outputs": [],
   "source": [
    "function abs2plot(f::Function, Δϕ::Real, ls, color)\n",
    "    res = [abs2(f.(l, Δϕ))/Δϕ for l in ls]\n",
    "    for i in (1:length(res))\n",
    "        if isapprox(res[i], 0)\n",
    "            res[i] = eps()\n",
    "        end\n",
    "    end\n",
    "    lines!(ls, res, label=L\"$\\Delta\\phi = %$Δϕ$\", color=color, linewidth=2)\n",
    "end\n",
    "\n",
    "function testplot(f::Function, a2=true)\n",
    "    xs = LinRange(-3.0, 3.0, 10001)\n",
    "    fig = Figure(size=(1700,1000))\n",
    "    ax = Axis(fig[1,1], xlabel=L\"\\ell\", ylabel=L\"|F(\\ell, \\Delta\\phi)|^2/\\Delta\\phi\", yscale=log10, aspect=1.5)\n",
    "    ylims!(1E-10, 100)\n",
    "    \n",
    "    abs2plot(f, 25.0, xs, wblue)\n",
    "    abs2plot(f, 50.0, xs, worange)\n",
    "    abs2plot(f, 250.0, xs, wgreen)\n",
    "    abs2plot(f, 500.0, xs, wpink)\n",
    "    fig[1,2] = Legend(fig, ax)\n",
    "    \n",
    "    save(\"generic_spectrum.png\", fig)\n",
    "    fig\n",
    "end;\n",
    "\n",
    "\n",
    "testplot(cossquare)"
   ]
  },
  {
   "attachments": {},
   "cell_type": "markdown",
   "metadata": {},
   "source": [
    "### Plotting functions that are used often"
   ]
  },
  {
   "cell_type": "code",
   "execution_count": null,
   "metadata": {},
   "outputs": [],
   "source": [
    "function draw_heatmap(fig::Figure, keep_axes::Bool, log_colors::Bool, xs, ys, zs, color_extremes, ticknum=5)\n",
    "    if log_colors\n",
    "        # dirty hack for log colors https://stackoverflow.com/questions/72803173/logarithmic-scale-for-contourf-colorbar-in-julia-using-makie-jl\n",
    "        # instead of the real values in zs their log10 is drawn and the colorbar uses the log10 as well, but then the ticks on it are replaced with the corresponding exp10 values\n",
    "        zsl = [log10(z) for z in zs]\n",
    "        if keep_axes  # case where the limits for the plot are given\n",
    "            hm = heatmap!(xs, ys, zsl, colorrange=log10.(color_extremes))\n",
    "            ticksval = range(log10.(color_extremes)..., length=ticknum)\n",
    "        else\n",
    "            hm = heatmap!(xs, ys, zsl, colorrange=(min(zsl[zsl.>log10(eps())]...), max(zsl...)))\n",
    "            ticksval = range(min(zsl[zsl.>log10(eps())]...), max(zsl...), length=ticknum)\n",
    "        end\n",
    "        ticksstring = [@sprintf(\"%.2E\", x) for x in exp10.(collect(ticksval))]  # @sprintf(\"%.2E\", x) converts all numbers to scientific notation (with 2 digits after the decimal point)\n",
    "        Colorbar(fig[:, end+1], hm, ticks=(ticksval, ticksstring))\n",
    "        return ticksval, zsl\n",
    "    else\n",
    "        if keep_axes\n",
    "            hm = heatmap!(xs, ys, zs, colorrange = color_extremes)\n",
    "            ticksval = range(color_extremes..., length=ticknum)\n",
    "        else\n",
    "            #hm = heatmap!(xs, ys, zs)\n",
    "            #ticksval = range(min(zs...), max(zs...), length=ticknum)\n",
    "            hm = heatmap!(xs, ys, zs, colorrange=(min(zs[zs.>eps()]...), max(zs...)))\n",
    "            ticksval = range(min(zs[zs.>eps()]...), max(zs...), length=ticknum)\n",
    "        end\n",
    "        #ticksstring = [@sprintf(\"%.2E\", x) for x in collect(ticksval)]\n",
    "        Colorbar(fig[:, end+1], hm)\n",
    "        return ticksval, zs  # need to return something because this is put into 2 variables in the plotting function\n",
    "    end\n",
    "end;"
   ]
  },
  {
   "cell_type": "code",
   "execution_count": null,
   "metadata": {},
   "outputs": [],
   "source": [
    "function draw_l1_line(fig::Figure, keep_axes::Bool, log_colors::Bool, xs, ls, zs, zsl, color_extremes, ticksval, xname, yname, figindex=1, lineres=zs[:, findfirst([isapprox(1.0, l, atol=0.01) for l in ls])])\n",
    "    # if the plot on the left has a legend then figindex needs to be 4 instead of 3\n",
    "    \n",
    "    if log_colors\n",
    "        ax = Axis(fig[1,figindex], xlabel=xname, ylabel=yname, yscale=log10, yticks=exp10.(collect(ticksval)), ytickformat=\"{:.2E}\")  # \"{:.2E}\" again converts to scientific notation like in the function above, but the macro wouldn't work in this location\n",
    "        if keep_axes\n",
    "            lines!(xs, lineres, color=log10.(lineres), colorrange=log10.(color_extremes))\n",
    "            ylims!(color_extremes...)\n",
    "        else\n",
    "            lines!(xs, lineres, color=log10.(lineres), colorrange=(min(zsl...), max(zsl...)))\n",
    "            ylims!(eps(), max(zs...))\n",
    "        end\n",
    "    else\n",
    "        ax = Axis(fig[1,figindex], xlabel=xname)\n",
    "        if keep_axes\n",
    "            lines!(xs, lineres, color=lineres, colorrange=color_extremes)\n",
    "            #ylims!(color_extremes...)\n",
    "        else\n",
    "            lines!(xs, lineres, color=wblue, label=L\"\\ell = 1.0\")\n",
    "            #ylims!(min(zs...), max(zs...))\n",
    "        end\n",
    "    end\n",
    "    return ax\n",
    "end;"
   ]
  },
  {
   "attachments": {},
   "cell_type": "markdown",
   "metadata": {},
   "source": [
    "## 1. $d\\sigma / dldc\\theta$"
   ]
  },
  {
   "cell_type": "code",
   "execution_count": null,
   "metadata": {},
   "outputs": [],
   "source": [
    "function lcθplot(ω::Real, Δϕ::Real, steps=1001; lmax=2, video=false, fig::Figure=Figure(size=(750,700)), log_colors=false, return_extremes=false, keep_axes=false, color_extremes=(0.0,1.0))\n",
    "    if video\n",
    "        empty!(fig)\n",
    "        # the title of the plot can't be at the top for videos becase the colorbar will jump into it (for some reason)\n",
    "        labelpos = 2\n",
    "    else\n",
    "        labelpos = 0\n",
    "    end\n",
    "\n",
    "    background = (x -> cossquare(x, Δϕ))\n",
    "    ax = Axis(fig[1,1], xlabel=L\"\\cos{(\\theta)}\", ylabel=L\"\\ell\")#, xticks=[-1.0,-0.5,0.0,0.5,1.0])\n",
    "    cθs = LinRange(-1.0, 1.0, steps)                              # x-axis\n",
    "    ls = LinRange(lmax/(steps-1), lmax+lmax/(steps-1), steps)     # y-axis\n",
    "    zs = [dσdldcθ.(cθ, ω, l, background) for cθ in cθs, l in ls]  # z-axis\n",
    "    #zs = comptonf(vcat(cθs',ls')|>gpu, ω, Δϕ) |> cpu\n",
    "    #print(zs[1,:])\n",
    "    if return_extremes\n",
    "        # for videos where the limits should stay the same over all frames the limits are returned here once\n",
    "        return (min(zs...), max(zs...))\n",
    "    end\n",
    "\n",
    "    ticksval, zsl = draw_heatmap(fig, keep_axes, log_colors, cθs, ls, zs, color_extremes)\n",
    "\n",
    "    \n",
    "\n",
    "    # draw a line that corresponds with the values for l=1\n",
    "    lines!(cθs, (x->1), linestyle=:dash, color=:orange, label=\"l=1\")\n",
    "    textx = cθs[round(Int, steps/2)]\n",
    "    texty = ls[findfirst([isapprox(1.0, l, atol=0.01) for l in ls])]\n",
    "    text!(textx, texty, text=L\"$\\ell=1.0$\", color=worange, align=(:center,:bottom))\n",
    "\n",
    "    lines!(cθs, (x->0.5), linestyle=:dash, color=worange, label=\"l=0.5\")\n",
    "    textx = cθs[round(Int, steps/2)]\n",
    "    texty = ls[findfirst([isapprox(0.5, l, atol=0.01) for l in ls])]\n",
    "    text!(textx, texty, text=L\"$\\ell=0.5$\", color=worange, align=(:center,:bottom))\n",
    "\n",
    "    lines!(cθs, (x->1.5), linestyle=:dash, color=worange, label=\"l=1.5\")\n",
    "    textx = cθs[round(Int, steps/2)]\n",
    "    texty = ls[findfirst([isapprox(1.5, l, atol=0.01) for l in ls])]\n",
    "    text!(textx, texty, text=L\"$\\ell=1.5$\", color=worange, align=(:center,:bottom))\n",
    "\n",
    "    if log_colors\n",
    "        save(\"ppcompton_lcosta_log.png\", fig)\n",
    "    else\n",
    "        save(\"ppcompton_lcosta.png\", fig)\n",
    "    end\n",
    "    fig2 = Figure(size=(750,700))\n",
    "\n",
    "    ax2 = draw_l1_line(fig2, keep_axes, log_colors, cθs, ls, zs, zsl, color_extremes, ticksval, L\"\\cos{(\\theta)}\", L\"$d\\sigma/dldc\\theta$\")\n",
    "    lines!(cθs, zs[:, findfirst([isapprox(1.5, l, atol=0.01) for l in ls])], color=worange, label=L\"\\ell=1.5\")\n",
    "    lines!(cθs, zs[:, findfirst([isapprox(0.5, l, atol=0.01) for l in ls])], color=wgreen, label=L\"\\ell=0.5\")\n",
    "    lines!(cθs, dσdcθ.(cθs, (ω,)), color=:black, linestyle=:dash, label=L\"\\mathrm{Klein-Nishina}\")\n",
    "    #colsize!(fig.layout, 3, Aspect(1, 0.6))\n",
    "    fig2[1,2] = Legend(fig2, ax2)\n",
    "\n",
    "    if log_colors\n",
    "        save(\"ppcompton_lcostb_log.png\", fig2)\n",
    "    else\n",
    "        save(\"ppcompton_lcostb.png\", fig2)\n",
    "    end\n",
    "    fig, fig2\n",
    "end;"
   ]
  },
  {
   "cell_type": "code",
   "execution_count": null,
   "metadata": {},
   "outputs": [],
   "source": [
    "fig1, fig2 = lcθplot(5.12, 1.43, 1001)\n",
    "fig1"
   ]
  },
  {
   "cell_type": "code",
   "execution_count": null,
   "metadata": {},
   "outputs": [],
   "source": [
    "fig2"
   ]
  },
  {
   "cell_type": "code",
   "execution_count": null,
   "metadata": {},
   "outputs": [],
   "source": [
    "lcθplot(1.0, 10.0, 1001)"
   ]
  },
  {
   "cell_type": "code",
   "execution_count": null,
   "metadata": {},
   "outputs": [],
   "source": [
    "lcθplot(0.2, 10.0, 1001, log_colors=false)"
   ]
  },
  {
   "attachments": {},
   "cell_type": "markdown",
   "metadata": {},
   "source": [
    "## 2. $d\\sigma / dldt$"
   ]
  },
  {
   "cell_type": "code",
   "execution_count": null,
   "metadata": {},
   "outputs": [],
   "source": [
    "function ltplot(ω::Real, Δϕ::Real, steps=1001; lmin=0.5, lmax=2.0, xmin=-3.5, video=false, fig::Figure=Figure(), log_colors=false, return_extremes=false, keep_axes=false, color_extremes=(0.0,1.0))\n",
    "    if video\n",
    "        empty!(fig)\n",
    "        labelpos = 2\n",
    "    else\n",
    "        labelpos = 0\n",
    "    end\n",
    "\n",
    "    background = (x -> cossquare(x, Δϕ))\n",
    "    Axis(fig[1,1], xlabel=L\"t\", ylabel=L\"l\", title=L\"$d\\sigma/dldt$\")\n",
    "    xlims!(low = xmin)\n",
    "    cθs = LinRange(-1.0, 1.0, steps)\n",
    "    ts = [2*ω*calc_ω2(ω,cθ)*(cθ-1) for cθ in cθs]\n",
    "    ls = LinRange(lmin, lmax, steps)\n",
    "    zs = [dσdldt.(cθ, ω, l, background) for cθ in cθs, l in ls]\n",
    "\n",
    "    if return_extremes\n",
    "        return (min(zs...), max(zs...))\n",
    "    end\n",
    "\n",
    "    ticksval, zsl = draw_heatmap(fig, keep_axes, log_colors, ts, ls, zs, color_extremes)\n",
    "\n",
    "    lines!(ts, (x->1), linestyle=:dash, color=:orange, label=\"l=1\")\n",
    "    textx = (ts[1]-ts[end])/2\n",
    "    texty = ls[findfirst([isapprox(1.0, l, atol=0.01) for l in ls])]\n",
    "    text!(textx, texty, text=L\"$l=1$\", color=:orange, align=(:center,:bottom))\n",
    "\n",
    "    draw_l1_line(fig, keep_axes, log_colors, cθs, ls, zs, zsl, color_extremes, ticksval, L\"t\", L\"$d\\sigma/dldt$\")\n",
    "\n",
    "    ωround = rpad(round(ω, digits=4), 6, \"0\")\n",
    "    Δϕround = rpad(round(Δϕ, digits=4), 6, \"0\")\n",
    "    captiontext = latexstring(L\"ppCompton diff. cross section for $\\omega = $\", ωround, L\", $\\Delta\\phi = $\", Δϕround)\n",
    "    Label(fig[labelpos,:], text=captiontext, fontsize=22)\n",
    "\n",
    "    save(\"compton_lt.png\", fig)\n",
    "    fig\n",
    "end;"
   ]
  },
  {
   "cell_type": "code",
   "execution_count": null,
   "metadata": {},
   "outputs": [],
   "source": [
    "ltplot(0.1, 10.0)"
   ]
  },
  {
   "cell_type": "code",
   "execution_count": null,
   "metadata": {},
   "outputs": [],
   "source": [
    "ltplot(1.0, 10.0)"
   ]
  },
  {
   "attachments": {},
   "cell_type": "markdown",
   "metadata": {},
   "source": [
    "## 3. $d\\sigma / d\\omega'dc\\theta$ "
   ]
  },
  {
   "cell_type": "code",
   "execution_count": null,
   "metadata": {},
   "outputs": [],
   "source": [
    "function draw_l_line(number::Real, cθs, ω, steps, maxy, color, label=L\"\\ell = %$number\")\n",
    "    values = [calc_ω2(ω*number, cθ) for cθ in cθs]\n",
    "    for i in 1:length(values)\n",
    "        if values[i] > maxy\n",
    "            values[i] = maxy\n",
    "        end\n",
    "        if values[i] < 0\n",
    "            values[i] = maxy\n",
    "        end\n",
    "    end\n",
    "    lines!(cθs, values, linestyle=:dash, color=color, label=label)\n",
    "end\n",
    "\n",
    "#=function draw_os_ex(ω, maxy, cθs) #needs l\n",
    "    res = [t_ex(ω) / (2*ω*(cos-1)) for cos in cθs]\n",
    "    for i in 1:length(res)\n",
    "        if res[i] > maxy\n",
    "            res[i] = maxy\n",
    "        end\n",
    "    end\n",
    "    lines!(cθs, res, linestyle=:dash, color=:black, label=L\"\\omega'_{ex}\")\n",
    "end=#\n",
    "\n",
    "function ω2cθplot(ω::Real, Δϕ::Real, steps=1001; video=false, fig::Figure=Figure(size=(1200,1000)), log_colors=false, unsafe=false, return_extremes=false, return_ω2max=false, keep_axes=false, color_extremes=(0.0,1.0), limit_ω2=false, ω2max=1.0)\n",
    "    if video\n",
    "        empty!(fig)\n",
    "        labelpos = 2\n",
    "    else\n",
    "        labelpos = 0\n",
    "    end\n",
    "\n",
    "    background = (x -> cossquare(x, Δϕ))\n",
    "    ax = Axis(fig[1,1], xlabel=L\"\\cos{(\\theta)}\", ylabel=L\"\\omega'\", aspect=1)\n",
    "    cθs = LinRange(-1, 0.998, steps)\n",
    "    l_line = [calc_ω2(ω, cθ) for cθ in cθs] ###not independant??\n",
    "    ω2s = LinRange(l_line[1], l_line[end], steps) #why?\n",
    "    zs = [dσdω2dcθ.(cθ, os, ω, background) for cθ in cθs, os in ω2s]\n",
    "    maxy = ω2s[end]\n",
    "    if return_ω2max\n",
    "        return maxy\n",
    "    end\n",
    "    \n",
    "    # calculate the max allowed ω' for each cθ\n",
    "    ωex = [m_e/(1-cθ) for cθ in cθs]\n",
    "    for i in 1:length(ωex)\n",
    "        if ωex[i] > maxy\n",
    "            ωex[i] = maxy\n",
    "        end\n",
    "    end\n",
    "    \n",
    "    if !unsafe\n",
    "        for i in 1:length(cθs)\n",
    "            for j in 1:length(ω2s)\n",
    "                if ω2s[j] > ωex[i]\n",
    "                    zs[i,j] = eps()\n",
    "                end\n",
    "            end\n",
    "        end\n",
    "    end\n",
    "\n",
    "    if return_extremes\n",
    "        return (min(zs[zs.>eps()]...), max(zs...))  # need to exclude the eps because that as minimum value would make the log plot in videos look bad\n",
    "    end\n",
    "\n",
    "    ticksval, zsl = draw_heatmap(fig, keep_axes, log_colors, cθs, ω2s, zs, color_extremes)\n",
    "\n",
    "    draw_l_line(1, cθs, ω, steps, maxy, :orange)\n",
    "    draw_l_line(-1, cθs, ω, steps, maxy, :green)\n",
    "    draw_l_line(5000000, cθs, ω, steps, maxy, :white, L\"\\ell \\rightarrow \\infty\")\n",
    "    #draw_l_line(0.3, cθs, ω, steps, maxy, :pink)\n",
    "    #draw_os_ex(ω, maxy, cθs)\n",
    "    #lines!(cθs, ωex, color=:white)  # max allowed ω' line\n",
    "\n",
    "    if limit_ω2\n",
    "        ylims!(low=0.0, high=ω2max)\n",
    "    end\n",
    "\n",
    "    fig[1,3] = Legend(fig, ax)\n",
    "\n",
    "    #draw_l1_line(fig, keep_axes, log_colors, cθs, ω2s, zs, zsl, color_extremes, ticksval, L\"\\cos{(\\theta)}\", L\"$d\\sigma/d\\omega'd\\cos{(\\theta)}$\", 4, dσdω2dcθ.(cθs, l_line, ω, background))\n",
    "\n",
    "    ωround = rpad(round(ω, digits=4), 6, \"0\")\n",
    "    Δϕround = rpad(round(Δϕ, digits=4), 6, \"0\")\n",
    "    #captiontext = latexstring(L\"ppCompton diff. cross section for $\\omega = $\", ωround, L\", $\\Delta\\phi = $\", Δϕround)\n",
    "    #Label(fig[labelpos,:], text=captiontext, fontsize=22)\n",
    "\n",
    "    if log_colors\n",
    "        save(\"ppcompton_w2cost_log.png\", fig)\n",
    "    else\n",
    "        save(\"ppcompton_w2cost.png\", fig)\n",
    "    end\n",
    "    fig\n",
    "end;"
   ]
  },
  {
   "cell_type": "code",
   "execution_count": null,
   "metadata": {},
   "outputs": [],
   "source": [
    "ω2cθplot(5.12, 1.43, log_colors=false)"
   ]
  },
  {
   "cell_type": "code",
   "execution_count": null,
   "metadata": {},
   "outputs": [],
   "source": [
    "#ω2cθplot(0.1, 10.0, log_colors=false)"
   ]
  },
  {
   "cell_type": "code",
   "execution_count": null,
   "metadata": {},
   "outputs": [],
   "source": [
    "ω2cθplot(5.12, 10.0, log_colors=true)"
   ]
  },
  {
   "cell_type": "code",
   "execution_count": null,
   "metadata": {},
   "outputs": [],
   "source": [
    "ω2cθplot(2.0, 1.43, log_colors=true, limit_ω2=true, ω2max=2.5)"
   ]
  },
  {
   "cell_type": "code",
   "execution_count": null,
   "metadata": {},
   "outputs": [],
   "source": [
    "ω2cθplot(2.0, 1.43, log_colors=false)"
   ]
  },
  {
   "attachments": {},
   "cell_type": "markdown",
   "metadata": {},
   "source": [
    "## 4. $d\\sigma / d\\chi dc\\theta$"
   ]
  },
  {
   "cell_type": "code",
   "execution_count": null,
   "metadata": {},
   "outputs": [],
   "source": [
    "function draw_l_line_vex(number::Real, cθs, ω, steps, maxy, color, label=L\"l = %$number\")\n",
    "    values = [calc_ω2(ω*number, cθ)/calc_ω2ex(cθ) for cθ in cθs]\n",
    "    for i in 1:length(values)\n",
    "        if values[i] > maxy\n",
    "            values[i] = maxy\n",
    "        end\n",
    "        if values[i] < 0\n",
    "            values[i] = maxy\n",
    "        end\n",
    "    end\n",
    "    lines!(cθs, values, linestyle=:dash, color=color, label=label)\n",
    "end\n",
    "\n",
    "function ω2_ex_cθplot(ω::Real, Δϕ::Real, steps=1001; video=false, fig=Figure(size=(1200,1000)), log_colors=false, return_extremes=false, keep_axes=false, color_extremes=(0.0,1.0))\n",
    "    if video\n",
    "        empty!(fig)\n",
    "        labelpos = 2\n",
    "    else\n",
    "        labelpos = 0\n",
    "    end\n",
    "\n",
    "    ymax = 1\n",
    "    background = (x -> cossquare(x, Δϕ))\n",
    "    ax = Axis(fig[1,1], xlabel=L\"\\cos{(\\theta)}\", ylabel=L\"\\overline{\\omega'}\", yticks=[0.0,0.2,0.4,0.6,0.8,1.0], aspect=1)\n",
    "    cθs = LinRange(-1, 0.998, steps)\n",
    "    ωex = calc_ω2ex(collect(cθs))\n",
    "    #y_axis = LinRange(ymax/(steps-1), ymax+ymax/(steps-1), steps) \n",
    "    y_axis = LinRange(ymax/(steps-1)*3, ymax-ymax/(steps-1), steps) # need to exclude 0 because that is under a fraction in dσdω2dcθ_ex and exclude ωex (y=1) because the values are negative there\n",
    "    l_line = [calc_ω2(ω, cθ) for cθ in cθs]./ωex\n",
    "    ω2s_scaled = [y*ωexi for y in y_axis, ωexi in ωex] #why\n",
    "    zs = [dσdω2dcθ_ex([cθ], [ω2], ω, background)[1] for cθ in cθs, ω2 in y_axis]\n",
    "    if return_extremes\n",
    "        return (min(zs...), max(zs...))\n",
    "    end\n",
    "    maxy = ω2s_scaled[end]\n",
    "\n",
    "    ticksval, zsl = draw_heatmap(fig, keep_axes, log_colors, cθs, y_axis, zs, color_extremes)\n",
    "\n",
    "\n",
    "    ωround = rpad(round(ω, digits=4), 6, \"0\")\n",
    "    Δϕround = rpad(round(Δϕ, digits=4), 6, \"0\")\n",
    "    captiontext = latexstring(L\"ppCompton diff. cross section for $\\omega = $\", ωround, L\", $\\Delta\\phi = $\", Δϕround)\n",
    "    #Label(fig[labelpos,:], text=captiontext, fontsize=22)\n",
    "    \n",
    "    if log_colors\n",
    "        save(\"ppcompton_w2bar_log.png\", fig)\n",
    "    else\n",
    "        save(\"ppcompton_w2bar.png\", fig)\n",
    "    end\n",
    "    save(\"ppcompton_w2bar.png\", fig)\n",
    "    fig\n",
    "end;"
   ]
  },
  {
   "attachments": {},
   "cell_type": "markdown",
   "metadata": {},
   "source": [
    "$\\omega'/\\omega'_{ex} := \\overline{\\omega'}$"
   ]
  },
  {
   "cell_type": "code",
   "execution_count": null,
   "metadata": {},
   "outputs": [],
   "source": [
    "ω2_ex_cθplot(0.1, 10.0)"
   ]
  },
  {
   "cell_type": "code",
   "execution_count": null,
   "metadata": {},
   "outputs": [],
   "source": [
    "ω2_ex_cθplot(5.12, 10.0)"
   ]
  },
  {
   "cell_type": "code",
   "execution_count": null,
   "metadata": {},
   "outputs": [],
   "source": [
    "ω2_ex_cθplot(0.1, 10.0, log_colors=true)"
   ]
  },
  {
   "cell_type": "code",
   "execution_count": null,
   "metadata": {},
   "outputs": [],
   "source": [
    "ω2_ex_cθplot(5.12, 10.0, log_colors=true)"
   ]
  }
 ],
 "metadata": {
  "kernelspec": {
   "display_name": "Julia 1.9.4",
   "language": "julia",
   "name": "julia-1.9"
  },
  "language_info": {
   "file_extension": ".jl",
   "mimetype": "application/julia",
   "name": "julia",
   "version": "1.9.4"
  },
  "vscode": {
   "interpreter": {
    "hash": "722b6f501d3291d098eeb116c55030d7476387c4156a20534e17b28f07582bab"
   }
  }
 },
 "nbformat": 4,
 "nbformat_minor": 2
}
