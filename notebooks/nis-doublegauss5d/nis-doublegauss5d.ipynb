{
 "cells": [
  {
   "cell_type": "code",
   "execution_count": null,
   "metadata": {},
   "outputs": [],
   "source": [
    "using DrWatson\n",
    "@quickactivate \"masterarbeit\""
   ]
  },
  {
   "cell_type": "code",
   "execution_count": null,
   "metadata": {},
   "outputs": [],
   "source": [
    "using BenchmarkTools\n",
    "using ProgressMeter\n",
    "using CUDA\n",
    "using Flux\n",
    "using LaTeXStrings\n",
    "using Flux: train!\n",
    "using GLMakie\n",
    "using Printf\n",
    "using Dates\n",
    "using JLD2\n",
    "using TOML\n",
    "using StatsBase # for fit(histogram)"
   ]
  },
  {
   "cell_type": "code",
   "execution_count": null,
   "metadata": {},
   "outputs": [],
   "source": [
    "Makie.inline!(true)\n",
    "fontsize_theme = Theme(fontsize=35)\n",
    "set_theme!(fontsize_theme)\n",
    "wblue = Makie.wong_colors()[1]\n",
    "worange = Makie.wong_colors()[2]\n",
    "wgreen = Makie.wong_colors()[3]\n",
    "wpink = Makie.wong_colors()[4]\n",
    "wlblue = Makie.wong_colors()[5]\n",
    "worange = Makie.wong_colors()[6]\n",
    "wyellow = Makie.wong_colors()[7];"
   ]
  },
  {
   "cell_type": "code",
   "execution_count": null,
   "metadata": {},
   "outputs": [],
   "source": [
    "using Revise"
   ]
  },
  {
   "cell_type": "code",
   "execution_count": null,
   "metadata": {},
   "outputs": [],
   "source": [
    "using masterarbeit"
   ]
  },
  {
   "cell_type": "code",
   "execution_count": null,
   "metadata": {},
   "outputs": [],
   "source": [
    "function lossf(m::Chain, cm::ChannelMapping, f::Function, x::T) where T<:AbstractArray{F} where F<:Real\n",
    "    zi = cm(m(x))\n",
    "    g = 1 ./ masterarbeit.jacobian4cl(m, cm, x)\n",
    "    fracs = abs.(f(zi) .- g) .^F(1.5) ./ f(zi)\n",
    "    return sum(fracs) / size(x,2)\n",
    "end"
   ]
  },
  {
   "cell_type": "code",
   "execution_count": null,
   "metadata": {},
   "outputs": [],
   "source": [
    "f = double_gauss\n",
    "ytozmap = IdentityMapping()\n",
    "dim = 5\n",
    "dimA = 3;"
   ]
  },
  {
   "cell_type": "code",
   "execution_count": null,
   "metadata": {},
   "outputs": [],
   "source": [
    "batchsize = 16384\n",
    "N_epochs = 100\n",
    "bins = 10\n",
    "learning_rate = 0.01\n",
    "decay = 0.7\n",
    "optimizer = Adam\n",
    ";"
   ]
  },
  {
   "cell_type": "code",
   "execution_count": null,
   "metadata": {},
   "outputs": [],
   "source": [
    "function subnet(dimA::Signed, dimB::Signed, bins::Signed, width=16)\n",
    "    return Chain(\n",
    "        Split(\n",
    "            Chain(\n",
    "                BatchNorm(dimA),\n",
    "                Dense(dimA => width, relu),\n",
    "                Dense(width => width, relu),\n",
    "                Dense(width => width, relu),\n",
    "                Dense(width => dimB*(bins+1))  \n",
    "                ), \n",
    "            Chain(\n",
    "                BatchNorm(dimA),\n",
    "                Dense(dimA => width, relu),\n",
    "                Dense(width => width, relu),\n",
    "                Dense(width => width, relu),\n",
    "                Dense(width => dimB*bins)\n",
    "                )\n",
    "            ) \n",
    "        ) |> gpu\n",
    "end"
   ]
  },
  {
   "cell_type": "code",
   "execution_count": null,
   "metadata": {},
   "outputs": [],
   "source": [
    "model = Flux.f32(Chain(\n",
    "    CouplingLayer(dim, dimA, bins, subnet),\n",
    "    masterarbeit.MaskLayer([false, false, true, true, true]),\n",
    "    CouplingLayer(dim, dimA, bins, subnet),\n",
    "    masterarbeit.MaskLayer([false, false, true, true, true]),\n",
    "    CouplingLayer(dim, dimA, bins, subnet),\n",
    "    masterarbeit.MaskLayer([false, false, true, true, true]),\n",
    "    CouplingLayer(dim, dimA, bins, subnet),\n",
    ") |> gpu);"
   ]
  },
  {
   "cell_type": "code",
   "execution_count": null,
   "metadata": {},
   "outputs": [],
   "source": [
    "# first run to compile\n",
    "xtest = CUDA.rand(dim,batchsize);"
   ]
  },
  {
   "cell_type": "code",
   "execution_count": null,
   "metadata": {},
   "outputs": [],
   "source": [
    "model(xtest);"
   ]
  },
  {
   "cell_type": "code",
   "execution_count": null,
   "metadata": {},
   "outputs": [],
   "source": [
    "f(ytozmap(xtest));"
   ]
  },
  {
   "cell_type": "code",
   "execution_count": null,
   "metadata": {},
   "outputs": [],
   "source": [
    "lossf(model,ytozmap,f,xtest)"
   ]
  },
  {
   "cell_type": "code",
   "execution_count": null,
   "metadata": {},
   "outputs": [],
   "source": [
    "Flux.withgradient(m-> lossf(m,ytozmap,f,xtest), model);"
   ]
  },
  {
   "attachments": {},
   "cell_type": "markdown",
   "metadata": {},
   "source": [
    "# Training"
   ]
  },
  {
   "cell_type": "code",
   "execution_count": null,
   "metadata": {},
   "outputs": [],
   "source": [
    "losses = Float32[]"
   ]
  },
  {
   "cell_type": "code",
   "execution_count": null,
   "metadata": {},
   "outputs": [],
   "source": [
    "function train_NN2(model::Chain, dim, lossf, losses, ytozmap, f; epochs=300, batchsize=16384, optimizer=Adam, learning_rate=0.0089, decay=0.05, ftype=Float32)\n",
    "    # losses is an input because this way train_NN can be run multiple times (with different training parameters) and all losses be collected\n",
    "    opt_state = Flux.setup(optimizer, model)\n",
    "    @showprogress for epoch in 1:epochs\n",
    "        data = CUDA.rand(ftype, dim, batchsize)\n",
    "        val, grads = Flux.withgradient(\n",
    "        m-> lossf(m,ytozmap,f,data), model\n",
    "        )\n",
    "\n",
    "        # Save the loss from the forward pass. (Done outside of gradient.)\n",
    "        push!(losses, val)\n",
    "\n",
    "        Flux.update!(opt_state, model, grads[1])\n",
    "    end\n",
    "    return losses\n",
    "end"
   ]
  },
  {
   "cell_type": "code",
   "execution_count": null,
   "metadata": {},
   "outputs": [],
   "source": [
    "xticks = [0.0, 0.25, 0.5, 0.75, 1.0]\n",
    "yticks = [0.0, 0.25, 0.5, 0.75, 1.0];"
   ]
  },
  {
   "cell_type": "code",
   "execution_count": null,
   "metadata": {},
   "outputs": [],
   "source": [
    "for i in 1:3\n",
    "    println(\"Training with learning rate  = $(learning_rate)\")\n",
    "    losses = train_NN(model, dim, lossf, losses, ytozmap, f, epochs=N_epochs, batchsize=batchsize, optimizer=optimizer, learning_rate=learning_rate)\n",
    "    learning_rate = learning_rate * decay\n",
    "end;"
   ]
  },
  {
   "cell_type": "code",
   "execution_count": null,
   "metadata": {},
   "outputs": [],
   "source": [
    "losses[end]"
   ]
  },
  {
   "cell_type": "code",
   "execution_count": null,
   "metadata": {},
   "outputs": [],
   "source": [
    "fig = Figure(size=(1500,1000))\n",
    "ax = Axis(fig[1,1], xlabel=\"epoch\", ylabel=\"loss\", yscale=log10, xlabelsize=50, ylabelsize=50)\n",
    "lines!(1:length(losses), losses, linewidth=3, color=wblue, label=\"loss\")\n",
    "n = 10\n",
    "lines!(n:length(losses), moving_average(losses, n), linewidth=4, color=worange, label=\"$n epoch \\n moving average\")\n",
    "fig[1,2] = Legend(fig, ax)\n",
    "save(\"doublegauss5d_nis_loss.png\", fig)\n",
    "fig"
   ]
  },
  {
   "cell_type": "code",
   "execution_count": null,
   "metadata": {},
   "outputs": [],
   "source": [
    "samples = sample_NN(model, ytozmap, dim, 10^7, batchsize);"
   ]
  },
  {
   "cell_type": "code",
   "execution_count": null,
   "metadata": {},
   "outputs": [],
   "source": [
    "xticks = [0.0, 0.25, 0.5, 0.75, 1.0]\n",
    "yticks = [0.0, 0.25, 0.5, 0.75, 1.0];"
   ]
  },
  {
   "cell_type": "code",
   "execution_count": null,
   "metadata": {},
   "outputs": [],
   "source": [
    "histo = fit(Histogram, (samples[1,:], samples[2,:]), nbins=100)\n",
    "histo_n = StatsBase.normalize(histo, mode=:pdf)\n",
    "fig = Figure(size=(1200,1000), figure_padding=40)\n",
    "ax = Axis(fig[1,1], xlabel=L\"x_1\", ylabel=L\"x_2\", xticks=xticks, yticks=yticks, aspect=1, xlabelsize=50, ylabelsize=50)\n",
    "hm = heatmap!(histo.edges[1], histo.edges[2], histo_n.weights,  colorrange=(0,5), highclip=cgrad(:viridis)[end])\n",
    "fig[1, 2] = GridLayout(width = 20)\n",
    "Colorbar(fig[1,3], hm, width=40)\n",
    "save(\"doublegauss5d_nis_samples.png\", fig)\n",
    "fig"
   ]
  },
  {
   "cell_type": "code",
   "execution_count": null,
   "metadata": {},
   "outputs": [],
   "source": [
    "function slice_samples(ind1, ind2, name1, name2)\n",
    "    histo = fit(Histogram, (samples[ind1,:], samples[ind2,:]), nbins=100)\n",
    "    histo_n = StatsBase.normalize(histo, mode=:pdf)\n",
    "    fig = Figure(size=(1000,1000), figure_padding=40)\n",
    "    ax = Axis(fig[1,1], xlabel=latexstring(name1), xticks=xticks, yticks=yticks, aspect=1)\n",
    "    hidexdecorations!(ax, ticks=false)\n",
    "    hideydecorations!(ax, ticks=false)\n",
    "    heatmap!(histo.edges[1], histo.edges[2], histo_n.weights, colorrange=(0,5),)\n",
    "    save(\"doublegauss5d_nis_samples_\"*(name1)*\"-\"*(name2)*\".png\", fig)\n",
    "    fig\n",
    "end\n",
    "slice_samples(1, 2, \"x_1\", \"x_2\")"
   ]
  },
  {
   "cell_type": "code",
   "execution_count": null,
   "metadata": {},
   "outputs": [],
   "source": [
    "#=slice_samples(1, 2, \"x_1\", \"x_2\")\n",
    "slice_samples(1, 3, \"x_1\", \"x_3\")\n",
    "slice_samples(1, 4, \"x_1\", \"x_4\")\n",
    "slice_samples(1, 5, \"x_1\", \"x_5\")\n",
    "slice_samples(2, 3, \"x_2\", \"x_3\")\n",
    "slice_samples(2, 4, \"x_2\", \"x_4\")\n",
    "slice_samples(2, 5, \"x_2\", \"x_5\")\n",
    "slice_samples(3, 4, \"x_3\", \"x_4\")\n",
    "slice_samples(3, 5, \"x_3\", \"x_5\")\n",
    "slice_samples(3, 5, \"x_3\", \"x_5\")\n",
    "slice_samples(4, 5, \"x_4\", \"x_5\")=#"
   ]
  },
  {
   "cell_type": "code",
   "execution_count": null,
   "metadata": {},
   "outputs": [],
   "source": [
    "fig = Figure(size=(1200,1000), figure_padding=40)\n",
    "ax = Axis(fig[1,1], xlabel=L\"x_1\", ylabel=L\"x_2\", xticks=xticks, yticks=yticks, aspect=1, xlabelsize=50, ylabelsize=50)\n",
    "xs = LinRange(0.0, 1.0, 1001)\n",
    "ys = LinRange(0.0, 1.0, 1001)\n",
    "zs = [f([x;y])[1] for x in xs, y in ys]\n",
    "heatmap!(xs, ys, zs)\n",
    "save(\"doublegauss5d_truth.png\", fig)\n",
    "fig"
   ]
  },
  {
   "cell_type": "code",
   "execution_count": null,
   "metadata": {},
   "outputs": [],
   "source": [
    "wi_vegas = load_object(\"vegas_weights.jld2\");"
   ]
  },
  {
   "cell_type": "code",
   "execution_count": null,
   "metadata": {},
   "outputs": [],
   "source": [
    "function weights4cl(m::Chain, cm::ChannelMapping, f::Function, x::T) where {T <: AbstractArray}\n",
    "    return masterarbeit.jacobian4cl(m, cm, x) .* f(cm(m(x)))\n",
    "end\n",
    "\n",
    "function weights4cl_chunked(m, dim, cm, f, N, batchsize)\n",
    "    if (N%batchsize != 0) \n",
    "        x = CUDA.rand(dim, N%batchsize)\n",
    "        weights = weights4cl(m, cm, f, x) |> cpu\n",
    "        inputs = x\n",
    "        runs = N ÷ batchsize \n",
    "    else\n",
    "        x = CUDA.rand(dim,   batchsize)\n",
    "        weights = weights4cl(m, cm, f, x) |> cpu\n",
    "        inputs = x\n",
    "        runs = N ÷ batchsize - 1\n",
    "    end\n",
    "    for i in 1:runs\n",
    "        x = CUDA.rand(dim, batchsize)\n",
    "        weights = hcat(weights, weights4cl(m, cm, f, x) |> cpu)\n",
    "        inputs = hcat(inputs, x)\n",
    "    end\n",
    "    return weights, inputs\n",
    "end\n",
    "\n",
    "wi_m, x_for_wi = weights4cl_chunked(model, dim, ytozmap, f,  10^7, batchsize);"
   ]
  },
  {
   "cell_type": "code",
   "execution_count": null,
   "metadata": {},
   "outputs": [],
   "source": [
    "wi = wi_m[1,:]\n",
    "f_over_g = wi\n",
    "mcint = 0.0088\n",
    "nis_int = sum(f_over_g) / size(samples,2)\n",
    "mcerror = sqrt(sum((f_over_g  .- mcint).^2) / (size(samples,2)-1))\n",
    "println(\"mc integral = $nis_int\")\n",
    "println(\"standard deviation = $mcerror\")"
   ]
  },
  {
   "cell_type": "code",
   "execution_count": null,
   "metadata": {},
   "outputs": [],
   "source": [
    "w_n = wi_m[1,:] ./ mcint\n",
    "w_avg = mean(w_n)\n",
    "w_max = maximum(w_n)\n",
    "efficiency = w_avg / w_max\n",
    "println(\"mean weight = $w_avg\")\n",
    "println(\"max weight = $w_max\")\n",
    "println(\"unweighting efficiency = $efficiency\")"
   ]
  },
  {
   "cell_type": "code",
   "execution_count": null,
   "metadata": {},
   "outputs": [],
   "source": [
    "wi_vegas_filtered = wi_vegas[wi_vegas .< 5.01];"
   ]
  },
  {
   "cell_type": "markdown",
   "metadata": {},
   "source": [
    "### Normalization\n",
    "Integral in 1d = 0.340825\n",
    "\n",
    "Integral in 2d = 0.340825 / 2.93405\n",
    "\n",
    "Integral in 5d = 0.340825 / 2.93405^4 = 0.00459899"
   ]
  },
  {
   "cell_type": "code",
   "execution_count": null,
   "metadata": {},
   "outputs": [],
   "source": [
    "fig = Figure(size=(1500,1000))\n",
    "ax = Axis(fig[1,1], ylabel=L\"N\", xlabel=L\"w\", yscale=Makie.pseudolog10, yticks=[0, 10^1, 10^3, 10^5, 10^7], backgroundcolor=:white, xlabelsize=50, ylabelsize=50)\n",
    "stephist!(wi_vegas, color=wblue, linewidth=3, label=\"VEGAS\", bins=100) \n",
    "stephist!(w_n, color=worange, linewidth=3, label=\"NIS\", bins=100) \n",
    "fig[1,2] = Legend(fig, ax)\n",
    "inset_ax = Axis(fig[1, 1], yscale=Makie.pseudolog10, xticks=[0.0, 1.0, 2.0, 3.0, 4.0, 5.0], yticks=[0, 10^1, 10^3, 10^5, 10^7], \n",
    "    width=Relative(0.65), height=Relative(0.65), halign=0.92, valign=0.92, backgroundcolor=:white)\n",
    "\n",
    "translate!(inset_ax.elements[:background], 0, 0, -10)\n",
    "stephist!(wi_vegas_filtered, color=wblue, linewidth=3, label=\"VEGAS\", bins=2000) \n",
    "stephist!(w_n, color=worange, linewidth=3, label=\"NIS\", bins=2000) \n",
    "xlims!(0.0, 5.0)\n",
    "save(\"doublegauss5d_weights.png\", fig)\n",
    "fig"
   ]
  },
  {
   "cell_type": "code",
   "execution_count": null,
   "metadata": {},
   "outputs": [],
   "source": []
  }
 ],
 "metadata": {
  "kernelspec": {
   "display_name": "Julia 1.9.4",
   "language": "julia",
   "name": "julia-1.9"
  },
  "language_info": {
   "file_extension": ".jl",
   "mimetype": "application/julia",
   "name": "julia",
   "version": "1.9.4"
  },
  "orig_nbformat": 4
 },
 "nbformat": 4,
 "nbformat_minor": 2
}
