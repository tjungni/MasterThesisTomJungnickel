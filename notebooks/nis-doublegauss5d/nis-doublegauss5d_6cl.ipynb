{
 "cells": [
  {
   "cell_type": "code",
   "execution_count": null,
   "metadata": {},
   "outputs": [],
   "source": [
    "using DrWatson\n",
    "@quickactivate \"masterarbeit\""
   ]
  },
  {
   "cell_type": "code",
   "execution_count": null,
   "metadata": {},
   "outputs": [],
   "source": [
    "using BenchmarkTools\n",
    "using ProgressMeter\n",
    "using CUDA\n",
    "using Flux\n",
    "using LaTeXStrings\n",
    "using Flux: train!\n",
    "using GLMakie\n",
    "using Printf\n",
    "using Dates\n",
    "using JLD2\n",
    "using TOML\n",
    "using StatsBase # for fit(histogram)"
   ]
  },
  {
   "cell_type": "code",
   "execution_count": null,
   "metadata": {},
   "outputs": [],
   "source": [
    "Makie.inline!(true)\n",
    "fontsize_theme = Theme(fontsize=35)\n",
    "set_theme!(fontsize_theme)\n",
    "wblue = Makie.wong_colors()[1]\n",
    "worange = Makie.wong_colors()[2]\n",
    "wgreen = Makie.wong_colors()[3]\n",
    "wpink = Makie.wong_colors()[4]\n",
    "wlblue = Makie.wong_colors()[5]\n",
    "worange = Makie.wong_colors()[6]\n",
    "wyellow = Makie.wong_colors()[7];"
   ]
  },
  {
   "cell_type": "code",
   "execution_count": null,
   "metadata": {},
   "outputs": [],
   "source": [
    "using Revise"
   ]
  },
  {
   "cell_type": "code",
   "execution_count": null,
   "metadata": {},
   "outputs": [],
   "source": [
    "using masterarbeit"
   ]
  },
  {
   "cell_type": "code",
   "execution_count": null,
   "metadata": {},
   "outputs": [],
   "source": [
    "function jacobian6cl(m::Chain, cm::ChannelMapping, x::T) where {T <: AbstractArray{F}} where F<:Real\n",
    "    sl1 = m[1]\n",
    "    cl1 = m[2]\n",
    "    sl2 = m[3]\n",
    "    cl2 = m[4]\n",
    "    sl3 = m[5]\n",
    "    cl3 = m[6]\n",
    "    sl4 = m[7]\n",
    "    cl4 = m[8]\n",
    "    sl5 = m[9]\n",
    "    cl5 = m[10]\n",
    "    sl6 = m[11]\n",
    "    cl6 = m[12]\n",
    "\n",
    "    x1s = sl1(x)\n",
    "    x2 = cl1(x1s)\n",
    "    x2s = sl2(x2)\n",
    "    x3 = cl2(x2s)\n",
    "    x3s = sl3(x3)\n",
    "    x4 = cl3(x3s)\n",
    "    x4s = sl4(x4)\n",
    "    x5 = cl4(x4s)\n",
    "    x5s = sl5(x5)\n",
    "    x6 = cl5(x5s)\n",
    "    x6s = sl6(x6)\n",
    "    x7 = cl6(x6s)\n",
    "\n",
    "    det1 = abs.(cldet(cl1, x1s[cl1.dimA+1:cl1.d,:], cl1.m(x1s[1:cl1.dimA,:])...))\n",
    "    det2 = abs.(cldet(cl2, x2s[cl2.dimA+1:cl2.d,:], cl2.m(x2s[1:cl2.dimA,:])...))\n",
    "    det3 = abs.(cldet(cl3, x3s[cl3.dimA+1:cl3.d,:], cl3.m(x3s[1:cl3.dimA,:])...)) \n",
    "    det4 = abs.(cldet(cl4, x4s[cl4.dimA+1:cl4.d,:], cl4.m(x4s[1:cl4.dimA,:])...)) \n",
    "    det5 = abs.(cldet(cl5, x5s[cl5.dimA+1:cl5.d,:], cl5.m(x5s[1:cl5.dimA,:])...)) \n",
    "    det6 = abs.(cldet(cl6, x6s[cl6.dimA+1:cl6.d,:], cl6.m(x6s[1:cl6.dimA,:])...)) \n",
    "\n",
    "    return abs(cmdet(cm)) .* det1 .* det2 .* det3 .* det4 .* det5 .* det6\n",
    "end"
   ]
  },
  {
   "cell_type": "code",
   "execution_count": null,
   "metadata": {},
   "outputs": [],
   "source": [
    "function lossf(m::Chain, cm::ChannelMapping, f::Function, x::T) where T<:AbstractArray{F} where F<:Real\n",
    "    zi = cm(m(x))\n",
    "    g = 1 ./ jacobian6cl(m, cm, x)\n",
    "    fracs = abs.(f(zi) .- g) .^F(1.5) ./ f(zi)\n",
    "    return sum(fracs) / size(x,2)\n",
    "end"
   ]
  },
  {
   "cell_type": "code",
   "execution_count": null,
   "metadata": {},
   "outputs": [],
   "source": [
    "f = double_gauss\n",
    "ytozmap = IdentityMapping()\n",
    "dim = 5;"
   ]
  },
  {
   "cell_type": "code",
   "execution_count": null,
   "metadata": {},
   "outputs": [],
   "source": [
    "batchsize = 16384\n",
    "N_epochs = 100\n",
    "bins = 10\n",
    "learning_rate = 0.01\n",
    "decay = 0.7\n",
    "optimizer = Adam\n",
    ";"
   ]
  },
  {
   "cell_type": "code",
   "execution_count": null,
   "metadata": {},
   "outputs": [],
   "source": [
    "function subnet(dimA::Signed, dimB::Signed, bins::Signed, width=10)\n",
    "    return Chain(\n",
    "        Split(\n",
    "            Chain(\n",
    "                BatchNorm(dimA),\n",
    "                Dense(dimA => width, relu),\n",
    "                Dense(width => width, relu),\n",
    "                Dense(width => width, relu),\n",
    "                Dense(width => dimB*(bins+1))  \n",
    "                ), \n",
    "            Chain(\n",
    "                BatchNorm(dimA),\n",
    "                Dense(dimA => width, relu),\n",
    "                Dense(width => width, relu),\n",
    "                Dense(width => width, relu),\n",
    "                Dense(width => dimB*bins)\n",
    "                )\n",
    "            ) \n",
    "        ) |> gpu\n",
    "end"
   ]
  },
  {
   "cell_type": "code",
   "execution_count": null,
   "metadata": {},
   "outputs": [],
   "source": [
    "model = Flux.f32(Chain(\n",
    "    masterarbeit.MaskLayer([true, false, true, false, true]),\n",
    "    CouplingLayer(dim, 3, bins, subnet),\n",
    "    masterarbeit.MaskLayer([false, false, false, true, true]),\n",
    "    CouplingLayer(dim, 2, bins, subnet),\n",
    "    masterarbeit.MaskLayer([true, false, true, false, true]),\n",
    "    CouplingLayer(dim, 2, bins, subnet),\n",
    "    masterarbeit.MaskLayer([false, false, false, true, true]),\n",
    "    CouplingLayer(dim, 3, bins, subnet),\n",
    "    masterarbeit.MaskLayer([true, true, true, true, false]),\n",
    "    CouplingLayer(dim, 1, bins, subnet),\n",
    "    masterarbeit.MaskLayer([false, false, false, false, true]),\n",
    "    CouplingLayer(dim, 4, bins, subnet),\n",
    ") |> gpu);"
   ]
  },
  {
   "cell_type": "code",
   "execution_count": null,
   "metadata": {},
   "outputs": [],
   "source": [
    "# first run to compile\n",
    "xtest = CUDA.rand(dim,batchsize);"
   ]
  },
  {
   "cell_type": "code",
   "execution_count": null,
   "metadata": {},
   "outputs": [],
   "source": [
    "model(xtest);"
   ]
  },
  {
   "cell_type": "code",
   "execution_count": null,
   "metadata": {},
   "outputs": [],
   "source": [
    "f(ytozmap(xtest));"
   ]
  },
  {
   "cell_type": "code",
   "execution_count": null,
   "metadata": {},
   "outputs": [],
   "source": [
    "lossf(model,ytozmap,f,xtest)"
   ]
  },
  {
   "cell_type": "code",
   "execution_count": null,
   "metadata": {},
   "outputs": [],
   "source": [
    "Flux.withgradient(m-> lossf(m,ytozmap,f,xtest), model);"
   ]
  },
  {
   "attachments": {},
   "cell_type": "markdown",
   "metadata": {},
   "source": [
    "# Training"
   ]
  },
  {
   "cell_type": "code",
   "execution_count": null,
   "metadata": {},
   "outputs": [],
   "source": [
    "losses = Float32[]"
   ]
  },
  {
   "cell_type": "code",
   "execution_count": null,
   "metadata": {},
   "outputs": [],
   "source": [
    "for i in 1:3\n",
    "    println(\"Training with learning rate  = $(learning_rate)\")\n",
    "    losses = train_NN(model, dim, lossf, losses, ytozmap, f, epochs=N_epochs, batchsize=batchsize, optimizer=optimizer, learning_rate=learning_rate)\n",
    "    learning_rate = learning_rate * decay\n",
    "end;"
   ]
  },
  {
   "cell_type": "code",
   "execution_count": null,
   "metadata": {},
   "outputs": [],
   "source": [
    "losses[end]"
   ]
  },
  {
   "cell_type": "code",
   "execution_count": null,
   "metadata": {},
   "outputs": [],
   "source": [
    "fig = Figure(size=(1500,1000))\n",
    "ax = Axis(fig[1,1], xlabel=\"epoch\", ylabel=\"loss\", yscale=log10)\n",
    "lines!(1:length(losses), losses, linewidth=3, color=wblue, label=\"loss\")\n",
    "n = 10\n",
    "lines!(n:length(losses), moving_average(losses, n), linewidth=4, color=worange, label=\"$n epoch \\n moving average\")\n",
    "fig[1,2] = Legend(fig, ax)\n",
    "fig"
   ]
  },
  {
   "cell_type": "code",
   "execution_count": null,
   "metadata": {},
   "outputs": [],
   "source": [
    "samples = sample_NN(model, ytozmap, dim, 10^7, batchsize);"
   ]
  },
  {
   "cell_type": "code",
   "execution_count": null,
   "metadata": {},
   "outputs": [],
   "source": [
    "xticks = [0.0, 0.25, 0.5, 0.75, 1.0]\n",
    "yticks = [0.0, 0.25, 0.5, 0.75, 1.0];"
   ]
  },
  {
   "cell_type": "code",
   "execution_count": null,
   "metadata": {},
   "outputs": [],
   "source": [
    "histo = fit(Histogram, (samples[1,:], samples[2,:]), nbins=100)\n",
    "histo_n = StatsBase.normalize(histo, mode=:pdf)\n",
    "fig = Figure(size=(1000,1000), figure_padding=40)\n",
    "ax = Axis(fig[1,1], xlabel=L\"x_1\", ylabel=L\"x_2\", xticks=xticks, yticks=yticks, aspect=1)\n",
    "hm = heatmap!(histo.edges[1], histo.edges[2], histo_n.weights,  colorrange=(0,5))\n",
    "fig[1, 2] = GridLayout(width = 20)\n",
    "Colorbar(fig[1,3], hm, width=40)\n",
    "save(\"doublegauss5d_nis_6cl_samples.png\", fig)\n",
    "fig"
   ]
  },
  {
   "cell_type": "code",
   "execution_count": null,
   "metadata": {},
   "outputs": [],
   "source": [
    "function slice_samples(ind1, ind2, name1, name2)\n",
    "    histo = fit(Histogram, (samples[ind1,:], samples[ind2,:]), nbins=100)\n",
    "    histo_n = StatsBase.normalize(histo, mode=:pdf)\n",
    "    fig = Figure(size=(1000,1000), figure_padding=40)\n",
    "    ax = Axis(fig[1,1], xlabel=latexstring(name1), xticks=xticks, yticks=yticks, aspect=1)\n",
    "    hidexdecorations!(ax, ticks=false)\n",
    "    hideydecorations!(ax, ticks=false)\n",
    "    heatmap!(histo.edges[1], histo.edges[2], histo_n.weights, colorrange=(0,5))\n",
    "    save(\"doublegauss5d_nis_6cl_\"*(name1)*\"-\"*(name2)*\".png\", fig)\n",
    "    fig\n",
    "end\n",
    "slice_samples(1, 2, \"x_1\", \"x_2\")"
   ]
  },
  {
   "cell_type": "code",
   "execution_count": null,
   "metadata": {},
   "outputs": [],
   "source": [
    "slice_samples(1, 2, \"x_1\", \"x_2\")\n",
    "slice_samples(1, 3, \"x_1\", \"x_3\")\n",
    "slice_samples(1, 4, \"x_1\", \"x_4\")\n",
    "slice_samples(1, 5, \"x_1\", \"x_5\")\n",
    "slice_samples(2, 3, \"x_2\", \"x_3\")\n",
    "slice_samples(2, 4, \"x_2\", \"x_4\")\n",
    "slice_samples(2, 5, \"x_2\", \"x_5\")\n",
    "slice_samples(3, 4, \"x_3\", \"x_4\")\n",
    "slice_samples(3, 5, \"x_3\", \"x_5\")\n",
    "slice_samples(3, 5, \"x_3\", \"x_5\")\n",
    "slice_samples(4, 5, \"x_4\", \"x_5\")"
   ]
  },
  {
   "cell_type": "code",
   "execution_count": null,
   "metadata": {},
   "outputs": [],
   "source": [
    "wi_vegas = load_object(\"vegas_weights.jld2\");"
   ]
  },
  {
   "cell_type": "code",
   "execution_count": null,
   "metadata": {},
   "outputs": [],
   "source": [
    "function weights6cl(m::Chain, cm::ChannelMapping, f::Function, x::T) where {T <: AbstractArray}\n",
    "    return jacobian6cl(m, cm, x) .* f(cm(m(x)))\n",
    "end\n",
    "\n",
    "function weights6cl_chunked(m, dim, cm, f, N, batchsize)\n",
    "    if (N%batchsize != 0) \n",
    "        x = CUDA.rand(dim, N%batchsize)\n",
    "        weights = weights6cl(m, cm, f, x)\n",
    "        inputs = x\n",
    "        runs = N ÷ batchsize \n",
    "    else\n",
    "        x = CUDA.rand(dim,   batchsize)\n",
    "        weights = weights6cl(m, cm, f, x)\n",
    "        inputs = x\n",
    "        runs = N ÷ batchsize - 1\n",
    "    end\n",
    "    for i in 1:runs\n",
    "        x = CUDA.rand(dim, batchsize)\n",
    "        weights = hcat(weights, weights6cl(m, cm, f, x))\n",
    "        inputs = hcat(inputs, x)\n",
    "    end\n",
    "    return weights |> cpu, inputs\n",
    "end\n",
    "\n",
    "wi_m, x_for_wi = weights6cl_chunked(model, dim, ytozmap, f,  10^7, batchsize)"
   ]
  },
  {
   "cell_type": "code",
   "execution_count": null,
   "metadata": {},
   "outputs": [],
   "source": [
    "wi = wi_m[1,:]\n",
    "w_avg = mean(wi)\n",
    "w_max = maximum(wi)\n",
    "wi_n = wi ./ w_max\n",
    "w_avg_n = mean(wi_n)\n",
    "println(\"mean weight = $(mean(wi))\")\n",
    "println(\"max weight = $(maximum(wi))\")\n",
    "println(\"unweighting efficiency = $(mean(wi)/maximum(wi))\")"
   ]
  },
  {
   "cell_type": "code",
   "execution_count": null,
   "metadata": {},
   "outputs": [],
   "source": [
    "wi = wi_m[1,:]\n",
    "f_evals = f(samples)[1,:]\n",
    "f_over_g = wi\n",
    "mcint = 0.0088\n",
    "nis_int = sum(f_over_g) / size(samples,2)\n",
    "mcerror = sqrt(sum((f_over_g  .- mcint).^2) / (size(samples,2)-1))\n",
    "println(\"mc integral = $nis_int\")\n",
    "println(\"standard deviation = $mcerror\")"
   ]
  }
 ],
 "metadata": {
  "kernelspec": {
   "display_name": "Julia 1.9.4",
   "language": "julia",
   "name": "julia-1.9"
  },
  "language_info": {
   "file_extension": ".jl",
   "mimetype": "application/julia",
   "name": "julia",
   "version": "1.9.4"
  },
  "orig_nbformat": 4
 },
 "nbformat": 4,
 "nbformat_minor": 2
}
