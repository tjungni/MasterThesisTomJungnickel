{
 "cells": [
  {
   "cell_type": "code",
   "execution_count": null,
   "metadata": {},
   "outputs": [],
   "source": [
    "using DrWatson\n",
    "@quickactivate \"masterarbeit\""
   ]
  },
  {
   "cell_type": "code",
   "execution_count": null,
   "metadata": {},
   "outputs": [],
   "source": [
    "using Random\n",
    "using LaTeXStrings\n",
    "using GLMakie\n",
    "using StatsBase"
   ]
  },
  {
   "cell_type": "code",
   "execution_count": null,
   "metadata": {},
   "outputs": [],
   "source": [
    "Makie.inline!(true)\n",
    "fontsize_theme = Theme(fontsize=35)\n",
    "set_theme!(fontsize_theme)\n",
    "wblue = Makie.wong_colors()[1]\n",
    "worange = Makie.wong_colors()[2]\n",
    "wgreen = Makie.wong_colors()[3]\n",
    "wpink = Makie.wong_colors()[4]\n",
    "wlblue = Makie.wong_colors()[5]\n",
    "worange = Makie.wong_colors()[6]\n",
    "wyellow = Makie.wong_colors()[7];"
   ]
  },
  {
   "cell_type": "code",
   "execution_count": null,
   "metadata": {},
   "outputs": [],
   "source": [
    "using Revise"
   ]
  },
  {
   "cell_type": "code",
   "execution_count": null,
   "metadata": {},
   "outputs": [],
   "source": [
    "using masterarbeit"
   ]
  },
  {
   "cell_type": "code",
   "execution_count": null,
   "metadata": {},
   "outputs": [],
   "source": [
    "include(joinpath(projectdir(),\"src/vegas.jl\"))"
   ]
  },
  {
   "cell_type": "code",
   "execution_count": null,
   "metadata": {},
   "outputs": [],
   "source": [
    "f = v -> double_gauss(v)[1]\n",
    "vegasstart = [0.0, 0.0, 0.0, 0.0, 0.0]\n",
    "vegasend = [1.0, 1.0, 1.0, 1.0, 1.0]\n",
    "xticks = [0.0, 0.25, 0.5, 0.75, 1.0]\n",
    "yticks = [0.0, 0.25, 0.5, 0.75, 1.0]\n",
    "xs = LinRange(0.0, 1.0, 1001)\n",
    "ys = LinRange(0.0, 1.0, 1001)\n",
    "fevals = sample -> f([sample[1], sample[2], sample[3], sample[4], sample[5]]);"
   ]
  },
  {
   "cell_type": "code",
   "execution_count": null,
   "metadata": {},
   "outputs": [],
   "source": [
    "res = vegas(f, vegasstart, vegasend)\n",
    "weights = res.weights;"
   ]
  },
  {
   "cell_type": "code",
   "execution_count": null,
   "metadata": {},
   "outputs": [],
   "source": [
    "fig = Figure(size=(1000,1000), figure_padding=40)\n",
    "ax2 = Axis(fig[1,1], xticks=xticks, yticks=yticks, \n",
    "    aspect=1, xlabel=L\"x_1\", ylabel=L\"x_2\", xlabelsize=50, ylabelsize=50)\n",
    "zs = [f([x,y])[1] for x in xs, y in ys]\n",
    "hm = heatmap!(xs, ys, zs)\n",
    "vlines!(res.adaptive_grid[:,1][1:50:end], color=:white, linewidth=2)\n",
    "hlines!(res.adaptive_grid[:,2][1:50:end], color=:white, linewidth=2)\n",
    "save(\"doublegauss5d_vegas_grid.png\", fig)\n",
    "fig"
   ]
  },
  {
   "cell_type": "code",
   "execution_count": null,
   "metadata": {},
   "outputs": [],
   "source": [
    "samples, Js = sample_from_adaptive_grid(res, 10^7)\n",
    "weights = Js .* fevals.(samples);"
   ]
  },
  {
   "cell_type": "code",
   "execution_count": null,
   "metadata": {},
   "outputs": [],
   "source": [
    "sx = [s[1] for s in samples]\n",
    "sy = [s[2] for s in samples];"
   ]
  },
  {
   "cell_type": "code",
   "execution_count": null,
   "metadata": {},
   "outputs": [],
   "source": [
    "histo = fit(Histogram, (sx, sy), nbins=100)\n",
    "histo_n = StatsBase.normalize(histo, mode=:pdf)\n",
    "fig = Figure(size=(1200,1000), figure_padding=40)\n",
    "ax = Axis(fig[1,1], xlabel=L\"x_1\", ylabel=L\"x_2\", xticks=xticks, yticks=yticks, aspect=1, xlabelsize=50, ylabelsize=50)\n",
    "hm = heatmap!(histo.edges[1], histo.edges[2], histo_n.weights, colorrange=(0,5)) #values >5!\n",
    "#fig[1, 2] = GridLayout(width = 20)\n",
    "#Colorbar(fig[1,3], hm, width=40)\n",
    "save(\"doublegauss5d_vegas_samples.png\", fig)\n",
    "fig"
   ]
  },
  {
   "cell_type": "code",
   "execution_count": null,
   "metadata": {},
   "outputs": [],
   "source": [
    "function slice_samples(x1, x2, name1, name2)\n",
    "    sx = [s[x1] for s in samples]\n",
    "    sy = [s[x2] for s in samples]\n",
    "    histo = fit(Histogram, (sx, sy), nbins=100)\n",
    "    fig = Figure(size=(1000,1000), figure_padding=20)\n",
    "    ax = Axis(fig[1,1], xticks=xticks, yticks=yticks, aspect=1)\n",
    "    hidexdecorations!(ax, ticks=false)\n",
    "    hideydecorations!(ax, ticks=false)\n",
    "    heatmap!(histo.edges[1], histo.edges[2], histo.weights)\n",
    "    save(\"doublegauss5d_vegas_samples_\"*(name1)*\"-\"*(name2)*\".png\", fig)\n",
    "    fig\n",
    "end;"
   ]
  },
  {
   "cell_type": "code",
   "execution_count": null,
   "metadata": {},
   "outputs": [],
   "source": [
    "slice_samples(1, 2, \"x_1\", \"x_2\")\n",
    "slice_samples(1, 3, \"x_1\", \"x_3\")\n",
    "slice_samples(1, 4, \"x_1\", \"x_4\")\n",
    "slice_samples(1, 5, \"x_1\", \"x_5\")\n",
    "slice_samples(2, 3, \"x_2\", \"x_3\")\n",
    "slice_samples(2, 4, \"x_2\", \"x_4\")\n",
    "slice_samples(2, 5, \"x_2\", \"x_5\")\n",
    "slice_samples(3, 4, \"x_3\", \"x_4\")\n",
    "slice_samples(3, 5, \"x_3\", \"x_5\")\n",
    "slice_samples(3, 5, \"x_3\", \"x_5\")\n",
    "slice_samples(4, 5, \"x_4\", \"x_5\")"
   ]
  },
  {
   "cell_type": "code",
   "execution_count": null,
   "metadata": {},
   "outputs": [],
   "source": [
    "mcint = res.integral_estimate\n",
    "mcerror = res.standard_deviation\n",
    "println(\"mc integral = $mcint\")\n",
    "println(\"standard deviation = $mcerror\")"
   ]
  },
  {
   "cell_type": "code",
   "execution_count": null,
   "metadata": {},
   "outputs": [],
   "source": [
    "w_n = weights ./ mcint\n",
    "w_avg = mean(w_n)\n",
    "w_max = maximum(w_n)\n",
    "efficiency = w_avg / w_max\n",
    "println(\"mean weight = $w_avg\")\n",
    "println(\"max weight = $w_max\")\n",
    "println(\"unweighting efficiency = $efficiency\")"
   ]
  },
  {
   "cell_type": "code",
   "execution_count": null,
   "metadata": {},
   "outputs": [],
   "source": [
    "#=fig = Figure(size=(1000,700))\n",
    "ax = Axis(fig[1,1], ylabel=L\"N\", xlabel=L\"w_{i,\\mathrm{rel}}\", yscale=Makie.pseudolog10, yticks=[0, 10^1, 10^3, 10^5, 10^7])\n",
    "stephist!(wi, bins=100)\n",
    "save(\"doublegauss5d_vegas_weights.png\", fig)\n",
    "fig=#"
   ]
  },
  {
   "cell_type": "code",
   "execution_count": null,
   "metadata": {},
   "outputs": [],
   "source": [
    "using JLD2"
   ]
  },
  {
   "cell_type": "code",
   "execution_count": null,
   "metadata": {},
   "outputs": [],
   "source": [
    "save_object(\"vegas_weights.jld2\", w_n)"
   ]
  },
  {
   "cell_type": "code",
   "execution_count": null,
   "metadata": {},
   "outputs": [],
   "source": []
  }
 ],
 "metadata": {
  "kernelspec": {
   "display_name": "Julia 1.9.4",
   "language": "julia",
   "name": "julia-1.9"
  },
  "language_info": {
   "file_extension": ".jl",
   "mimetype": "application/julia",
   "name": "julia",
   "version": "1.9.4"
  }
 },
 "nbformat": 4,
 "nbformat_minor": 2
}
