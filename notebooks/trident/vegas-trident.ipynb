{
 "cells": [
  {
   "cell_type": "code",
   "execution_count": null,
   "metadata": {},
   "outputs": [],
   "source": [
    "using DrWatson\n",
    "@quickactivate \"masterarbeit\""
   ]
  },
  {
   "cell_type": "code",
   "execution_count": null,
   "metadata": {},
   "outputs": [],
   "source": [
    "using Random\n",
    "using LaTeXStrings\n",
    "using GLMakie\n",
    "using StatsBase"
   ]
  },
  {
   "cell_type": "code",
   "execution_count": null,
   "metadata": {},
   "outputs": [],
   "source": [
    "Makie.inline!(true)\n",
    "fontsize_theme = Theme(fontsize=35)\n",
    "set_theme!(fontsize_theme)\n",
    "wblue = Makie.wong_colors()[1]\n",
    "worange = Makie.wong_colors()[2]\n",
    "wgreen = Makie.wong_colors()[3]\n",
    "wpink = Makie.wong_colors()[4]\n",
    "wlblue = Makie.wong_colors()[5]\n",
    "worange = Makie.wong_colors()[6]\n",
    "wyellow = Makie.wong_colors()[7];"
   ]
  },
  {
   "cell_type": "code",
   "execution_count": null,
   "metadata": {},
   "outputs": [],
   "source": [
    "using Revise"
   ]
  },
  {
   "cell_type": "code",
   "execution_count": null,
   "metadata": {},
   "outputs": [],
   "source": [
    "using masterarbeit"
   ]
  },
  {
   "cell_type": "code",
   "execution_count": null,
   "metadata": {},
   "outputs": [],
   "source": [
    "include(joinpath(projectdir(),\"src/vegas.jl\"))"
   ]
  },
  {
   "cell_type": "code",
   "execution_count": null,
   "metadata": {},
   "outputs": [],
   "source": [
    "omega = 5.12\n",
    "dphi = 10.0"
   ]
  },
  {
   "cell_type": "code",
   "execution_count": null,
   "metadata": {},
   "outputs": [],
   "source": [
    "ytozmap = trident_phasespace(omega)"
   ]
  },
  {
   "cell_type": "code",
   "execution_count": null,
   "metadata": {},
   "outputs": [],
   "source": [
    "ytozmap.Eb_lim"
   ]
  },
  {
   "cell_type": "code",
   "execution_count": null,
   "metadata": {},
   "outputs": [],
   "source": [
    "f = x -> dσpT(omega, x...)\n",
    "vegasstart = [1.0, -1.0, 0.0, 1.0, 0.89]\n",
    "vegasend = [1.0+ytozmap.Ea_lim, 1.0, 2.0*pi, 1.0+ytozmap.Eb_lim, 1.0]"
   ]
  },
  {
   "cell_type": "code",
   "execution_count": null,
   "metadata": {},
   "outputs": [],
   "source": [
    "res = vegas(f, vegasstart, vegasend)\n",
    "weights = res.weights;"
   ]
  },
  {
   "cell_type": "code",
   "execution_count": null,
   "metadata": {},
   "outputs": [],
   "source": [
    "function vegaswithgrid()\n",
    "    fig = Figure(size=(1000,1000), figure_padding=40)\n",
    "    ax2 = Axis(fig[1,1], xticks=xticks, yticks=yticks,\n",
    "        aspect=1, xlabel=L\"\\cos{\\theta}\", ylabel=L\"\\overline{\\omega'}\")\n",
    "    zs = [f([x,y])[1] for x in xs, y in ys]\n",
    "    hm = heatmap!(xs, ys, zs)\n",
    "    vlines!(res.adaptive_grid[:,1][1:50:end], color=:black, linewidth=1)\n",
    "    hlines!(res.adaptive_grid[:,2][1:50:end], color=:black, linewidth=1)\n",
    "    save(\"compton_vegas_grid.png\", fig)\n",
    "    return fig\n",
    "end \n",
    "fig = vegaswithgrid()\n",
    "fig"
   ]
  },
  {
   "cell_type": "code",
   "execution_count": null,
   "metadata": {},
   "outputs": [],
   "source": [
    "samples, Js = sample_from_adaptive_grid(res, 10^5)\n"
   ]
  },
  {
   "cell_type": "code",
   "execution_count": null,
   "metadata": {},
   "outputs": [],
   "source": [
    "sx = [s[1] for s in samples]\n",
    "sy = [s[4] for s in samples]\n",
    "histo = fit(Histogram, (sx, sy), nbins=100)\n",
    "histo_n = StatsBase.normalize(histo, mode=:pdf)\n",
    "fig = Figure(size=(1000,1000), figure_padding=40)\n",
    "ax = Axis(fig[1,1], xlabel=L\"E_a\", ylabel=L\"E_b\", aspect=1)\n",
    "hm = heatmap!(histo.edges[1], histo.edges[2], histo_n.weights)\n",
    "fig[1, 2] = GridLayout(width = 20)\n",
    "Colorbar(fig[1,3], hm, width=40)\n",
    "save(\"trident_vegas_samples.png\", fig)\n",
    "fig"
   ]
  },
  {
   "cell_type": "code",
   "execution_count": null,
   "metadata": {},
   "outputs": [],
   "source": [
    "fevals = sample -> dσpT(omega, sample[1], sample[2], sample[3], sample[4], sample[5]);\n",
    "weights = Js .* fevals.(samples);"
   ]
  },
  {
   "cell_type": "code",
   "execution_count": null,
   "metadata": {},
   "outputs": [],
   "source": [
    "wi = weights\n",
    "w_avg = mean(wi)\n",
    "w_max = maximum(wi)\n",
    "wi_n = wi ./ w_max\n",
    "w_avg_n = mean(wi_n)\n",
    "println(\"mean weight = $(mean(wi))\")\n",
    "println(\"max weight = $(maximum(wi))\")\n",
    "println(\"unweighting efficiency = $(mean(wi)/maximum(wi))\")"
   ]
  },
  {
   "cell_type": "code",
   "execution_count": null,
   "metadata": {},
   "outputs": [],
   "source": [
    "using JLD2"
   ]
  },
  {
   "cell_type": "code",
   "execution_count": null,
   "metadata": {},
   "outputs": [],
   "source": [
    "#save_object(\"vegas_weights.jld2\", wi)"
   ]
  },
  {
   "cell_type": "code",
   "execution_count": null,
   "metadata": {},
   "outputs": [],
   "source": []
  }
 ],
 "metadata": {
  "kernelspec": {
   "display_name": "Julia 1.9.4",
   "language": "julia",
   "name": "julia-1.9"
  },
  "language_info": {
   "file_extension": ".jl",
   "mimetype": "application/julia",
   "name": "julia",
   "version": "1.9.4"
  }
 },
 "nbformat": 4,
 "nbformat_minor": 2
}
