{
 "cells": [
  {
   "cell_type": "code",
   "execution_count": null,
   "metadata": {},
   "outputs": [],
   "source": [
    "using DrWatson\n",
    "@quickactivate \"masterarbeit\""
   ]
  },
  {
   "cell_type": "code",
   "execution_count": null,
   "metadata": {},
   "outputs": [],
   "source": [
    "#using CUDA\n",
    "using BenchmarkTools\n",
    "using ProgressMeter\n",
    "using Flux\n",
    "using LaTeXStrings\n",
    "using Flux: train!\n",
    "using GLMakie\n",
    "using Printf\n",
    "using Dates\n",
    "using JLD2\n",
    "using TOML\n",
    "using StatsBase # for fit(histogram)\n",
    "using Random"
   ]
  },
  {
   "cell_type": "code",
   "execution_count": null,
   "metadata": {},
   "outputs": [],
   "source": [
    "Makie.inline!(true)\n",
    "fontsize_theme = Theme(fontsize=35)\n",
    "set_theme!(fontsize_theme)\n",
    "wblue = Makie.wong_colors()[1]\n",
    "worange = Makie.wong_colors()[2]\n",
    "wgreen = Makie.wong_colors()[3]\n",
    "wpink = Makie.wong_colors()[4]\n",
    "wlblue = Makie.wong_colors()[5]\n",
    "worange = Makie.wong_colors()[6]\n",
    "wyellow = Makie.wong_colors()[7];"
   ]
  },
  {
   "cell_type": "code",
   "execution_count": null,
   "metadata": {},
   "outputs": [],
   "source": [
    "using Revise"
   ]
  },
  {
   "cell_type": "code",
   "execution_count": null,
   "metadata": {},
   "outputs": [],
   "source": [
    "using masterarbeit"
   ]
  },
  {
   "cell_type": "code",
   "execution_count": null,
   "metadata": {},
   "outputs": [],
   "source": [
    "dir=get_mldir()"
   ]
  },
  {
   "cell_type": "code",
   "execution_count": null,
   "metadata": {},
   "outputs": [],
   "source": [
    "progress_plots=true\n",
    "save_samples=true\n",
    "save=true\n",
    "comment=\"4cl, notebook subnet\"\n",
    "\n",
    "omega = 5.12\n",
    "dphi = 10.0\n",
    "\n",
    "ytozmap = trident_phasespace(omega)\n",
    "\n",
    "function f(mapped)\n",
    "    return dσpT_multithreaded((omega,), mapped...) .* 10000000f0\n",
    "end\n",
    "\n",
    "function jacobian_trident(m::Chain, cm::ChannelMapping, x::T) where {T <: AbstractArray{F}} where F<:Real\n",
    "    cl1 = m[1]\n",
    "    sl1 = m[2]\n",
    "    cl2 = m[3]\n",
    "    sl2 = m[4]\n",
    "    cl3 = m[5]\n",
    "    sl3 = m[6]\n",
    "    cl4 = m[7]\n",
    "    x2 = cl1(x)\n",
    "    x2s = sl1(x2)\n",
    "    x3 = cl2(x2s)\n",
    "    x3s = sl2(x3)\n",
    "    x4 = cl3(x3s)\n",
    "    x4s = sl3(x4)\n",
    "    det1 = abs.(masterarbeit.cldet_cpu(cl1,  x[cl1.dimA+1:cl1.d,:], cl1.m( x[1:cl1.dimA,:])...))\n",
    "    det2 = abs.(masterarbeit.cldet_cpu(cl2, x2s[cl2.dimA+1:cl2.d,:], cl2.m(x2s[1:cl2.dimA,:])...))\n",
    "    det3 = abs.(masterarbeit.cldet_cpu(cl3, x3s[cl3.dimA+1:cl3.d,:], cl3.m(x3s[1:cl3.dimA,:])...)) \n",
    "    det4 = abs.(masterarbeit.cldet_cpu(cl4, x4s[cl4.dimA+1:cl4.d,:], cl4.m(x4s[1:cl4.dimA,:])...)) \n",
    "    return abs(cmdet(cm)) .* det1 .* det2 .* det3 .* det4\n",
    "end\n",
    "\n",
    "function lossf(m::Chain, cm::ChannelMapping, f::Function, x::T) where T<:AbstractArray{F} where F<:Real\n",
    "    zi = cm(m(x))\n",
    "    g = 1 ./ jacobian_trident(m, cm, x)\n",
    "    fz = f(zi)\n",
    "    fracs = abs.(fz .- g) .^F(2.0) ./ fz\n",
    "    return sum(fracs) / size(x,2)\n",
    "end\n",
    "\n",
    "dim = 5\n",
    "dimA = 3\n",
    "optimizer = Adam\n",
    "activation = relu\n",
    "batchsize = 1024\n",
    "N_samples = 2^18  # = 260k\n",
    "sample_batchsize = batchsize\n",
    "\n",
    "epochs = 600#parse(Int, ARGS[1])#60\n",
    "steps = 3#parse(Int, ARGS[2])#2\n",
    "learning_rate = 0.01#parse(Float64, ARGS[3])#0.01\n",
    "start_learning_rate = learning_rate\n",
    "decay = 0.7 #parse(Float64, ARGS[4])#0.7\n",
    "bins = 20 #parse(Int, ARGS[5])#10#20"
   ]
  },
  {
   "cell_type": "code",
   "execution_count": null,
   "metadata": {},
   "outputs": [],
   "source": [
    "function subnet(dimA::Signed, dimB::Signed, bins::Signed, width=32)\n",
    "    return Chain(\n",
    "        Split(\n",
    "            Chain(\n",
    "                BatchNorm(dimA),\n",
    "                Dense(dimA => width, activation),\n",
    "                BatchNorm(width),\n",
    "                Dense(width => width, activation),\n",
    "                BatchNorm(width),\n",
    "                Dense(width => dimB*(bins+1))  \n",
    "                ), \n",
    "            Chain(\n",
    "                BatchNorm(dimA),\n",
    "                Dense(dimA => width, activation),\n",
    "                BatchNorm(width),\n",
    "                Dense(width => width, activation),\n",
    "                BatchNorm(width),\n",
    "                Dense(width => dimB*bins)\n",
    "                )\n",
    "            ) \n",
    "        )\n",
    "end\n",
    "\n",
    "model = Flux.f64(Chain(\n",
    "    CouplingLayerCPU(dim, dimA, bins, subnet),\n",
    "    masterarbeit.MaskLayerCPU([false, false, true, true, true]),\n",
    "    CouplingLayerCPU(dim, dimA, bins, subnet),\n",
    "    masterarbeit.MaskLayerCPU([true, false, false, true, true]),\n",
    "    CouplingLayerCPU(dim, dimA, bins, subnet),\n",
    "    masterarbeit.MaskLayerCPU([false, true, false, true, true]),\n",
    "    CouplingLayerCPU(dim, dimA, bins, subnet)\n",
    ") |> cpu );"
   ]
  },
  {
   "cell_type": "code",
   "execution_count": null,
   "metadata": {},
   "outputs": [],
   "source": [
    "xtest = Random.rand(dim, batchsize)\n",
    "f(ytozmap(xtest));"
   ]
  },
  {
   "cell_type": "code",
   "execution_count": null,
   "metadata": {},
   "outputs": [],
   "source": [
    "model(xtest);"
   ]
  },
  {
   "cell_type": "code",
   "execution_count": null,
   "metadata": {},
   "outputs": [],
   "source": [
    "lossf(model, ytozmap, f, xtest);"
   ]
  },
  {
   "cell_type": "code",
   "execution_count": null,
   "metadata": {},
   "outputs": [],
   "source": [
    "Flux.withgradient(m -> lossf(m, ytozmap, f, xtest), model);"
   ]
  },
  {
   "cell_type": "code",
   "execution_count": null,
   "metadata": {},
   "outputs": [],
   "source": [
    "losses = Float64[]\n",
    "if progress_plots\n",
    "    loopslength = Int(epochs / steps)\n",
    "    for i in 1:steps\n",
    "        @info \"Training step $i/$steps\"\n",
    "        global losses = train_NN_cpu(model, dim, lossf, losses, ytozmap, f, epochs=loopslength, batchsize=batchsize, optimizer=optimizer, learning_rate=learning_rate, decay=decay)\n",
    "        #Ea_samples, cta_samples, phia_samples, Eb_samples, ctb_samples = sample_trident(model, ytozmap, dim, N_samples, batchsize)\n",
    "        #savefig(plot_samples(Ea_samples, cta_samples, \"Ea\", \"cos(theta_a)\"), joinpath(dir, \"epoch$(i*loopslength)_samples.png\"))\n",
    "        global learning_rate = learning_rate * decay\n",
    "    end\n",
    "else\n",
    "    losses = train_NN_cpu(model, dim, lossf, losses, ytozmap, f, epochs=epochs, batchsize=batchsize, optimizer=optimizer, learning_rate=learning_rate, decay=decay)\n",
    "end"
   ]
  },
  {
   "cell_type": "code",
   "execution_count": null,
   "metadata": {},
   "outputs": [],
   "source": [
    "fig = Figure(size=(1500,1000))\n",
    "ax = Axis(fig[1,1], xlabel=\"epoch\", ylabel=\"loss\", xlabelsize=50, ylabelsize=50, yscale=log10)\n",
    "lines!(1:length(losses), losses, linewidth=3, color=wblue, label=\"loss\")\n",
    "n = 10\n",
    "lines!(n:length(losses), moving_average(losses, n), linewidth=4, color=worange, label=\"$n epoch \\n moving average\")\n",
    "fig[1,2] = Legend(fig, ax)\n",
    "#save(\"trident_nis_loss.png\", fig)\n",
    "fig"
   ]
  },
  {
   "cell_type": "code",
   "execution_count": null,
   "metadata": {},
   "outputs": [],
   "source": [
    "samples = sample_nomap_cpu(model, dim, N_samples, sample_batchsize)"
   ]
  },
  {
   "cell_type": "code",
   "execution_count": null,
   "metadata": {},
   "outputs": [],
   "source": [
    "Ea_samples, cta_samples, phia_samples, Eb_samples, ctb_samples = ytozmap(samples)"
   ]
  },
  {
   "cell_type": "code",
   "execution_count": null,
   "metadata": {},
   "outputs": [],
   "source": [
    "function makie_samples(samplesx, samplesy, xname, yname)\n",
    "    histo = fit(Histogram, (samplesx, samplesy), nbins=100)\n",
    "    histo_n = StatsBase.normalize(histo, mode=:pdf)\n",
    "    fig = Figure(size=(1200,1000), figure_padding=40)\n",
    "    ax = Axis(fig[1,1], xlabel=latexstring(xname), ylabel=latexstring(xname), \n",
    "        aspect=1, xlabelsize=50, ylabelsize=50)\n",
    "    hm = heatmap!(histo.edges[1], histo.edges[2], histo_n.weights)#, colorrange=(0,5), highclip=cgrad(:viridis)[end])\n",
    "    fig[1, 2] = GridLayout(width = 20)\n",
    "    Colorbar(fig[1,3], hm, width=40)\n",
    "    #ylims=(0.0,1.0)\n",
    "    return fig\n",
    "end"
   ]
  },
  {
   "cell_type": "code",
   "execution_count": null,
   "metadata": {},
   "outputs": [],
   "source": [
    "makie_samples(Ea_samples, Eb_samples, \"Ea\", \"Eb\") "
   ]
  },
  {
   "cell_type": "code",
   "execution_count": null,
   "metadata": {},
   "outputs": [],
   "source": [
    "function weights4cl(m::Chain, cm::ChannelMapping, f::Function, x::T) where {T <: AbstractArray}\n",
    "    return jacobian_trident(m, cm, x) .* f(cm(m(x)))'\n",
    "end\n",
    "\n",
    "function weights4cl_chunked(m, dim, cm, f, N, batchsize)\n",
    "    if (N%batchsize != 0) \n",
    "        x = Random.rand(dim, N%batchsize)\n",
    "        weights = weights4cl(m, cm, f, x)\n",
    "        runs = N ÷ batchsize \n",
    "    else\n",
    "        x = Random.rand(dim,   batchsize)\n",
    "        weights = weights4cl(m, cm, f, x)\n",
    "        runs = N ÷ batchsize - 1\n",
    "    end\n",
    "    for i in 1:runs\n",
    "        x = Random.rand(dim, batchsize)\n",
    "        weights = hcat(weights, weights4cl(m, cm, f, x))\n",
    "    end\n",
    "    return weights\n",
    "end\n",
    "\n",
    "wi = weights4cl_chunked(model, dim, ytozmap, f, N_samples, batchsize)[1, :]"
   ]
  },
  {
   "cell_type": "code",
   "execution_count": null,
   "metadata": {},
   "outputs": [],
   "source": [
    "#f_evals = f(ytozmap(samples))[1,:]\n",
    "f_over_g = wi\n",
    "mc_int = sum(f_over_g) / size(samples,2) #* cmdet(ytozmap)\n",
    "mcerror = sqrt(sum((f_over_g .- mc_int).^2) / (size(samples,2)-1))\n",
    "println(\"mc integral = $mc_int\")\n",
    "println(\"standard deviation = $mcerror\")"
   ]
  },
  {
   "cell_type": "code",
   "execution_count": null,
   "metadata": {},
   "outputs": [],
   "source": [
    "wi[wi .> 0.1]"
   ]
  },
  {
   "cell_type": "code",
   "execution_count": null,
   "metadata": {},
   "outputs": [],
   "source": [
    "f_over_g = wi\n",
    "mc_int = sum(f_over_g) / size(samples,2)\n",
    "mcerror = sqrt(sum((f_over_g .- mc_int).^2) / (size(samples,2)-1))\n",
    "println(\"mc integral = $mc_int\")\n",
    "println(\"standard deviation = $mcerror\")"
   ]
  },
  {
   "cell_type": "code",
   "execution_count": null,
   "metadata": {},
   "outputs": [],
   "source": [
    "wi_n = wi ./ mc_int\n",
    "w_avg = mean(wi_n)\n",
    "w_max = maximum(wi_n)\n",
    "uw_eff = w_avg / w_max"
   ]
  },
  {
   "cell_type": "code",
   "execution_count": null,
   "metadata": {},
   "outputs": [],
   "source": []
  }
 ],
 "metadata": {
  "kernelspec": {
   "display_name": "Julia 8 Threads 1.9.4",
   "language": "julia",
   "name": "julia-8-threads-1.9"
  },
  "language_info": {
   "file_extension": ".jl",
   "mimetype": "application/julia",
   "name": "julia",
   "version": "1.9.4"
  },
  "orig_nbformat": 4
 },
 "nbformat": 4,
 "nbformat_minor": 2
}
